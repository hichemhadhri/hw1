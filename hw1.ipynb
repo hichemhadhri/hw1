{
 "cells": [
  {
   "cell_type": "markdown",
   "id": "41f19621",
   "metadata": {},
   "source": [
    "# Homework 1 (HW1)\n",
    "\n",
    "By the end of this homework, we expect you to be able to:\n",
    "\n",
    "- Load data and handle data using pandas;\n",
    "- Navigate the documentation of Python packages by yourself;\n",
    "- Filter and tidy up noisy real-world datasets;\n",
    "- Aggregate your data in different (and hopefully helpful) ways; \n",
    "- Create meaningful visualizations to analyze the data;\n",
    "\n",
    "---\n",
    "\n",
    "## Important Dates\n",
    "\n",
    "- Homework release: Fri 14 Oct 2022\n",
    "- **Homework due**: Sat 29 Oct 2022, 23:59\n",
    "- Grade release: Mon 07 Nov 2022\n",
    "\n",
    "---\n",
    "\n",
    "##  Some rules\n",
    "\n",
    "1. You are allowed to use any built-in Python library that comes with Anaconda. If you want to use an external library, \n",
    "you may do so, but must justify your choice.\n",
    "2. Make sure you use the `data` folder provided in the repository in read-only mode. (Or alternatively, be sure you \n",
    "don’t change any of the files.)\n",
    "3. Be sure to provide a textual description of your thought process, the assumptions you made, the solution you \n",
    "implemented, and explanations for your answers. A notebook that only has code cells will not suffice.\n",
    "4. For questions containing the **/Discuss:/** prefix, answer not with code, but with a textual explanation\n",
    " (**in markdown**).\n",
    "5. Back up any hypotheses and claims with data, since this is an important aspect of the course.\n",
    "6. Please write all your comments in English, and use meaningful variable names in your code. Your repo should have a \n",
    "single notebook (plus the required data files) in the *master/main* branch. If there are multiple notebooks present, \n",
    "we will **not grade** anything.\n",
    "7. We will **not run your notebook for you**! Rather, we will grade it as is, which means that only the results \n",
    "contained in your evaluated code cells will be considered, and we will not see the results in unevaluated code cells. \n",
    "Thus, be sure to hand in a **fully-run and evaluated notebook**. In order to check whether everything looks as intended,\n",
    " you can check the rendered notebook on the GitHub website once you have pushed your solution there.\n",
    "8. In continuation to the previous point, interactive plots, such as those generated using `plotly`, should be \n",
    "**strictly avoided**!\n",
    "9. Make sure to print results or dataframes that confirm you have properly addressed the task.\n",
    "\n",
    "---\n",
    "\n",
    "In this homework, we will analyze data from A/B tests of headlines conducted by Upworthy from January 2013 to April 2015 to study whether the language used in the headline determines the number of people that will read the associated news piece. The homework contains four tasks: in task 1, we will process the data; in task 2, we will extract meaningful signals from the data; in task 3, we will test whether the language of headlines impacts their success; and in task 4, we will explore the heterogeneity of this effects (e.g., does it vary through time?).\n",
    "\n",
    "\n",
    "### **What is an A/B test?** \n",
    "A/B tests are experiments that compare two scenarios (e.g., scenario A vs. scenario B). \n",
    "They test subjects' responses to each of the variants to determine which is more effective ([read more about A/B tests on Wikipedia](https://en.wikipedia.org/wiki/A/B_testing)). \n",
    "A/B tests allow us to draw conclusions about the different scenarios by randomizing exposure to them, e.g., one could flip a coin and assign a user to scenario A if it lands heads and to B if it lands tails. \n",
    "Since exposure is randomized, we can be confident that the scenarios are the sole explanation for statistically significant differences in subjects' responses (if they exist). \n",
    "In theory, A/B testing refers to an experiment that compares two scenarios; however, in practice, the term is also used when we compare multiple scenarios (e.g., A vs. B vs. C), although the more precise terminology would be to call such an experiment a \"multinomial test.\"\n",
    "\n",
    "### **How were A/B tests used by Upworthy?** \n",
    "Upworthy used A/B testing to increase news readership, conducting experiments for each published news piece. \n",
    "In each experiment, they created multiple \"packages\" of stimuli, varying headlines, images, excerpts, and ledes for the same news piece. \n",
    "Different \"packages\" were shown on their (now defunct) website to engage users with the news pieces they produced. Upworthy found \"the best\" package by conducting A/B tests, showing different packages to different users, and measuring how often users clicked on each version. \n",
    "Below, we show three \"packages\" used by Upworthy in an experiment, each with a different headline for the same news piece. \n",
    "Upworthy randomized users that visited their website saw one of the three versions of the headline below. Then, they measured the percentage of times users in each scenario clicked to read the news. \n",
    "The headline with the highest percentage of clicks per view (click through rate) was then declared the \"winner\" and became the default for all visitors.\n",
    "\n",
    "![Example A/B test](example.png)\n",
    "\n",
    " ### **Where does this data come from?** \n",
    " \n",
    " From a paper [1].\n",
    "\n",
    "[1] Matias, J.N., Munger, K., Le Quere, M.A. et al. The Upworthy Research Archive, a time series of 32,487 experiments in U.S. media. Sci Data 8, 195 (2021). https://doi.org/10.1038/s41597-021-00934-7\n",
    "\n",
    "### **Where can I find this data?**  \n",
    "\n",
    "You can find it in the `/data/` folder.\n",
    "\n",
    "### **Terminology**\n",
    "\n",
    "- **News piece:** A news article. In the dataset considered, these were all produced by Upworthy.\n",
    "- **Package:** The set of visual stimuli inviting the user to read an article. The figure above shows a package with a headline and an image. At times, there was an excerpt of the article also shown in the package and/or the lede, i.e., [\"the introductory section of a news story that is intended to entice the reader to read the full story.\"](https://www.merriam-webster.com/words-at-play/bury-the-lede-versus-lead#:~:text=In%20journalism%2C%20the%20lede%20refers,machines%20began%20disappearing%20from%20newsrooms.)\n",
    "- **Experiment:** Each experiment is an A/B test (or multinomial test, to be more precise) comparing how users reacted to different \"packages.\" Experiments measured two things: 1) how many users were shown each package; and 2) how many individuals clicked each package.\n",
    "\n",
    "### **Data description**\n",
    "\n",
    "| Column name          | Description                                                                                                                                                                                       |   |   |   |\n",
    "|----------------------|---------------------------------------------------------------------------------------------------------------------------------------------------------------------------------------------------|---|---|---|\n",
    "| created_at           | Time the package was created (timezone unknown)                                                                                                                                                   |   |   |   |\n",
    "| test_week            | Week the package was created, a variable constructed by the archive creators for stratified random sampling                                                                                       |   |   |   |\n",
    "| clickability_test_id | The test ID. Viewers were randomly assigned to packages with the same test ID                                                                                                                     |   |   |   |\n",
    "| impressions          | The number of viewers who were assigned to this package. The total number of participants for a given test is the sum of impressions for all packages that share the same clickability_test_id    |   |   |   |\n",
    "| headline             | The headline being tested                                                                                                                                                                         |   |   |   |\n",
    "| eyecatcher_id        | Image ID. Image files are not available. Packages that shared the same image have the same eyecatcher_id                                                                                          |   |   |   |\n",
    "| clicks               | The number of viewers (impressions) that clicked on the package. The clickrate for a given package is the number of clicks divided by the number of impressions                                   |   |   |   |\n",
    "| excerpt              | Article excerpt                                                                                                                                                                                   |   |   |   |\n",
    "| lede                 | The opening sentence or paragraph of the story                                                                                                                                                    |   |   |   |\n",
    "| slug                 | Internal name for the web address                                                                                                                                                                 |   |   |   |\n",
    "| share_text           | Summary for display on social media when the article is shared. This was not shown in tests, since tests were conducted on the Upworthy website                                                   |   |   |   |\n",
    "| square               | When used, part of the same social media sharing suggestion as the share text                                                                                                                     |   |   |   |\n",
    "| significance         | NOT an estimate of statistical significance; a complex, inconsistent calculation that compared the clicks on a package to the clicks on all previous packages that were fielded on the same pages |   |   |   |\n",
    "| first_place          | Along with significance, shown to editors to guide decisions about what test to choose                                                                                                            |   |   |   |\n",
    "| winner               | Whether a package was selected by editors to be used on the Upworthy site after the test                                                                                                          |   |   |   |\n",
    "| updated_at           | The last time the package was updated in the Upworthy system                                                                                                                                      |   |   |   |\n"
   ]
  },
  {
   "cell_type": "markdown",
   "id": "7b640175",
   "metadata": {},
   "source": [
    "## Task 1: Getting familiar with the data\n",
    "\n",
    "Your first task is to conduct initial analyses to understand the data and process it in a way that will allow us to more easily answer our key question: *how does the language of a headline determine its success?*\n",
    "\n",
    "1.1 Load the data into memory using pandas and print the first lines to get a sense of it.\n",
    "\n",
    "1.2 Each experiment comparing different versions of the same news piece (\"packages\") has a unique identifier (`clickability_test_id` column). \n",
    "Calculate how many different experiments were conducted in this dataset and, on average, how many packages were considered per experiment. \n",
    "Last, plot the distribution of packages per experiment with a visualization of your choice.\n",
    "\n",
    "1.3 A common way to measure success in online A/B tests is what is called \"the clickthrough rate.\"\n",
    "Given that often A/B tests are created to find what engages users (here, \"packages\" of headlines, images, etc), we would expect that a \"good\" package makes people click often. \n",
    "Create a column named `ctr` by dividing the number of clicks a package received (`clicks` column) by the number of impressions it received (`impressions` column).\n",
    "\n",
    "1.4 Packages varied any combination of the headline (`headline` column), the excerpt (`excerpt`), the first sentence of the article (`lede`), and the image that illustrates the news piece (`eyecatcher_id`, a hash per image). \n",
    "But we want to isolate the effect of the headline on the clickthrough rate. To do that, create a new dataframe where you filter all experiments where only one headline is present. \n",
    "Print the length of this new dataframe and how many experiments were discarded in the filtering process.\n",
    "\n",
    "1.5 For comparison, repeat the procedure described in **T1.4** with the `eyecatcher_id` column, i.e., create a dataframe considering only experiments that vary the image. \n",
    "Again, print the length of this new dataframe and how many experiments were discarded in the filtering process.\n",
    "\n",
    "1.6 **Discuss:** Considering the answers to questions **T1.4** and **T1.4**, what can we say about the different versions of the news tested by Upworthy?\n",
    "\n",
    "1.7 For our subsequent analysis, we want to compare the causal effect of headlines on the success of a news piece. \n",
    "For that, we can compare pairs of packages with the same `eyecatcher_id`, `lede`, and `excerpt`, but different `headlines`.\n",
    "Note that this means that if an experiment considered 5 different headlines and did not vary any other stimulus, we would have 5C2 (i.e., 5 choose 2, 10) pairs to consider.\n",
    "Create a dataset where:\n",
    "- each row corresponds to a pair of packages with different `headline` but the same `eyecatcher_id`, `lede`, and `excerpt`. \n",
    "- there are columns containing the headlines of each of the news versions (`headline1`, `headline2`) and the clickthrough rate of each of the news versions (`ctr1`, `ctr2`). \n",
    "- the columns `headline1` and `ctr1` contain the data associated with the news version with the highest clickthrough rate. Print the first columns of your newly created dataframe, as well as its length.\n",
    "-  the columns where the two news pieces had exactly the same clickthrough rate should be filtered out (this is for simplicity's sake).\n",
    "-  the column `date_created` contains the date when the news version with the highest clickthrough rate was created.\n",
    "\n",
    "1.8 To get a sense of the impact of headline change, measure the average difference per pair between the most clicked-through (`ctr1`) and the least clicked-through headline (`ctr2`), as well as the average clickthrough rate for the least clicked through headline (`ctr2`). \n",
    "\n",
    "1.9 **Discuss:** Considering your answer to **T1.8**, and assuming the average differences in clickthrough rates between pairs are statistically significant, do you think that headlines are impactful in the news business? Justify with the data."
   ]
  },
  {
   "cell_type": "markdown",
   "id": "560cc150",
   "metadata": {},
   "source": [
    "1.1 Load the data into memory using pandas and print the first lines to get a sense of it."
   ]
  },
  {
   "cell_type": "code",
   "execution_count": 1,
   "id": "d3a9f611",
   "metadata": {},
   "outputs": [
    {
     "data": {
      "text/html": [
       "<div>\n",
       "<style scoped>\n",
       "    .dataframe tbody tr th:only-of-type {\n",
       "        vertical-align: middle;\n",
       "    }\n",
       "\n",
       "    .dataframe tbody tr th {\n",
       "        vertical-align: top;\n",
       "    }\n",
       "\n",
       "    .dataframe thead th {\n",
       "        text-align: right;\n",
       "    }\n",
       "</style>\n",
       "<table border=\"1\" class=\"dataframe\">\n",
       "  <thead>\n",
       "    <tr style=\"text-align: right;\">\n",
       "      <th></th>\n",
       "      <th>created_at</th>\n",
       "      <th>updated_at</th>\n",
       "      <th>clickability_test_id</th>\n",
       "      <th>excerpt</th>\n",
       "      <th>headline</th>\n",
       "      <th>lede</th>\n",
       "      <th>slug</th>\n",
       "      <th>eyecatcher_id</th>\n",
       "      <th>impressions</th>\n",
       "      <th>clicks</th>\n",
       "      <th>significance</th>\n",
       "      <th>first_place</th>\n",
       "      <th>winner</th>\n",
       "      <th>share_text</th>\n",
       "      <th>square</th>\n",
       "      <th>test_week</th>\n",
       "    </tr>\n",
       "  </thead>\n",
       "  <tbody>\n",
       "    <tr>\n",
       "      <th>0</th>\n",
       "      <td>2014-11-20 06:43:16.005</td>\n",
       "      <td>2016-04-02 16:33:38.062</td>\n",
       "      <td>546d88fb84ad38b2ce000024</td>\n",
       "      <td>Things that matter. Pass 'em on.</td>\n",
       "      <td>They're Being Called 'Walmart's Worst Nightmar...</td>\n",
       "      <td>&lt;p&gt;When I saw *why* people are calling them \"W...</td>\n",
       "      <td>theyre-being-called-walmarts-worst-nightmare-a...</td>\n",
       "      <td>546d6fa19ad54eec8d00002d</td>\n",
       "      <td>3052</td>\n",
       "      <td>150</td>\n",
       "      <td>100.0</td>\n",
       "      <td>True</td>\n",
       "      <td>True</td>\n",
       "      <td>Anyone who's ever felt guilty about shopping a...</td>\n",
       "      <td>NaN</td>\n",
       "      <td>201446</td>\n",
       "    </tr>\n",
       "    <tr>\n",
       "      <th>1</th>\n",
       "      <td>2014-11-20 06:54:36.335</td>\n",
       "      <td>2016-04-02 16:25:54.027</td>\n",
       "      <td>546d902c26714c6c44000039</td>\n",
       "      <td>Things that matter. Pass 'em on.</td>\n",
       "      <td>This Is What Sexism Against Men Sounds Like</td>\n",
       "      <td>&lt;p&gt;DISCLOSURE: I'm a dude. I have cried on mul...</td>\n",
       "      <td>this-is-what-sexism-against-men-sounds-like-am...</td>\n",
       "      <td>546bc55335992b86c8000043</td>\n",
       "      <td>3526</td>\n",
       "      <td>90</td>\n",
       "      <td>4.1</td>\n",
       "      <td>False</td>\n",
       "      <td>False</td>\n",
       "      <td>If you ever wondered, \"but what about the men?...</td>\n",
       "      <td>NaN</td>\n",
       "      <td>201446</td>\n",
       "    </tr>\n",
       "    <tr>\n",
       "      <th>2</th>\n",
       "      <td>2014-11-20 06:54:57.878</td>\n",
       "      <td>2016-04-02 16:31:45.671</td>\n",
       "      <td>546d902c26714c6c44000039</td>\n",
       "      <td>Things that matter. Pass 'em on.</td>\n",
       "      <td>This Is What Sexism Against Men Sounds Like</td>\n",
       "      <td>&lt;p&gt;DISCLOSURE: I'm a dude. I have cried on mul...</td>\n",
       "      <td>this-is-what-sexism-against-men-sounds-like-am...</td>\n",
       "      <td>546d900426714cd2dd00002e</td>\n",
       "      <td>3506</td>\n",
       "      <td>120</td>\n",
       "      <td>100.0</td>\n",
       "      <td>True</td>\n",
       "      <td>False</td>\n",
       "      <td>If you ever wondered, \"but what about the men?...</td>\n",
       "      <td>NaN</td>\n",
       "      <td>201446</td>\n",
       "    </tr>\n",
       "    <tr>\n",
       "      <th>3</th>\n",
       "      <td>2014-11-20 06:55:07.212</td>\n",
       "      <td>2016-04-02 16:25:54.029</td>\n",
       "      <td>546d902c26714c6c44000039</td>\n",
       "      <td>Things that matter. Pass 'em on.</td>\n",
       "      <td>This Is What Sexism Against Men Sounds Like</td>\n",
       "      <td>&lt;p&gt;DISCLOSURE: I'm a dude. I have cried on mul...</td>\n",
       "      <td>this-is-what-sexism-against-men-sounds-like-am...</td>\n",
       "      <td>546d900426714c6c44000038</td>\n",
       "      <td>3380</td>\n",
       "      <td>98</td>\n",
       "      <td>25.3</td>\n",
       "      <td>False</td>\n",
       "      <td>False</td>\n",
       "      <td>If you ever wondered, \"but what about the men?...</td>\n",
       "      <td>NaN</td>\n",
       "      <td>201446</td>\n",
       "    </tr>\n",
       "    <tr>\n",
       "      <th>4</th>\n",
       "      <td>2014-11-20 06:55:20.347</td>\n",
       "      <td>2016-04-02 16:25:54.032</td>\n",
       "      <td>546d902c26714c6c44000039</td>\n",
       "      <td>Things that matter. Pass 'em on.</td>\n",
       "      <td>This Is What Sexism Against Men Sounds Like</td>\n",
       "      <td>&lt;p&gt;DISCLOSURE: I'm a dude. I have cried on mul...</td>\n",
       "      <td>this-is-what-sexism-against-men-sounds-like-am...</td>\n",
       "      <td>546d900426714c1ad900001e</td>\n",
       "      <td>3465</td>\n",
       "      <td>75</td>\n",
       "      <td>0.2</td>\n",
       "      <td>False</td>\n",
       "      <td>False</td>\n",
       "      <td>If you ever wondered, \"but what about the men?...</td>\n",
       "      <td>NaN</td>\n",
       "      <td>201446</td>\n",
       "    </tr>\n",
       "  </tbody>\n",
       "</table>\n",
       "</div>"
      ],
      "text/plain": [
       "               created_at              updated_at      clickability_test_id  \\\n",
       "0 2014-11-20 06:43:16.005 2016-04-02 16:33:38.062  546d88fb84ad38b2ce000024   \n",
       "1 2014-11-20 06:54:36.335 2016-04-02 16:25:54.027  546d902c26714c6c44000039   \n",
       "2 2014-11-20 06:54:57.878 2016-04-02 16:31:45.671  546d902c26714c6c44000039   \n",
       "3 2014-11-20 06:55:07.212 2016-04-02 16:25:54.029  546d902c26714c6c44000039   \n",
       "4 2014-11-20 06:55:20.347 2016-04-02 16:25:54.032  546d902c26714c6c44000039   \n",
       "\n",
       "                            excerpt  \\\n",
       "0  Things that matter. Pass 'em on.   \n",
       "1  Things that matter. Pass 'em on.   \n",
       "2  Things that matter. Pass 'em on.   \n",
       "3  Things that matter. Pass 'em on.   \n",
       "4  Things that matter. Pass 'em on.   \n",
       "\n",
       "                                            headline  \\\n",
       "0  They're Being Called 'Walmart's Worst Nightmar...   \n",
       "1        This Is What Sexism Against Men Sounds Like   \n",
       "2        This Is What Sexism Against Men Sounds Like   \n",
       "3        This Is What Sexism Against Men Sounds Like   \n",
       "4        This Is What Sexism Against Men Sounds Like   \n",
       "\n",
       "                                                lede  \\\n",
       "0  <p>When I saw *why* people are calling them \"W...   \n",
       "1  <p>DISCLOSURE: I'm a dude. I have cried on mul...   \n",
       "2  <p>DISCLOSURE: I'm a dude. I have cried on mul...   \n",
       "3  <p>DISCLOSURE: I'm a dude. I have cried on mul...   \n",
       "4  <p>DISCLOSURE: I'm a dude. I have cried on mul...   \n",
       "\n",
       "                                                slug  \\\n",
       "0  theyre-being-called-walmarts-worst-nightmare-a...   \n",
       "1  this-is-what-sexism-against-men-sounds-like-am...   \n",
       "2  this-is-what-sexism-against-men-sounds-like-am...   \n",
       "3  this-is-what-sexism-against-men-sounds-like-am...   \n",
       "4  this-is-what-sexism-against-men-sounds-like-am...   \n",
       "\n",
       "              eyecatcher_id  impressions  clicks  significance  first_place  \\\n",
       "0  546d6fa19ad54eec8d00002d         3052     150         100.0         True   \n",
       "1  546bc55335992b86c8000043         3526      90           4.1        False   \n",
       "2  546d900426714cd2dd00002e         3506     120         100.0         True   \n",
       "3  546d900426714c6c44000038         3380      98          25.3        False   \n",
       "4  546d900426714c1ad900001e         3465      75           0.2        False   \n",
       "\n",
       "   winner                                         share_text square  test_week  \n",
       "0    True  Anyone who's ever felt guilty about shopping a...    NaN     201446  \n",
       "1   False  If you ever wondered, \"but what about the men?...    NaN     201446  \n",
       "2   False  If you ever wondered, \"but what about the men?...    NaN     201446  \n",
       "3   False  If you ever wondered, \"but what about the men?...    NaN     201446  \n",
       "4   False  If you ever wondered, \"but what about the men?...    NaN     201446  "
      ]
     },
     "execution_count": 1,
     "metadata": {},
     "output_type": "execute_result"
    }
   ],
   "source": [
    "import pandas as pd\n",
    "import numpy as np\n",
    "\n",
    "from scipy.stats import ttest_ind, ttest_rel, bootstrap\n",
    "from statsmodels.stats import diagnostic\n",
    "\n",
    "import matplotlib.pyplot as plt\n",
    "%matplotlib inline\n",
    "import seaborn as sns\n",
    "\n",
    "\n",
    "data_folder = './Data/'\n",
    "\n",
    "packages = pd.read_csv(data_folder+'upworthy.csv.gz', parse_dates=['created_at','updated_at'],na_values=['Nan'])\n",
    "packages.head()"
   ]
  },
  {
   "cell_type": "markdown",
   "id": "3ee7d498",
   "metadata": {},
   "source": [
    "1.2 Each experiment comparing different versions of the same news piece (\"packages\") has a unique identifier (clickability_test_id column). Calculate how many different experiments were conducted in this dataset and, on average, how many packages were considered per experiment. Last, plot the distribution of packages per experiment with a visualization of your choice.\n",
    "\n"
   ]
  },
  {
   "cell_type": "code",
   "execution_count": 2,
   "id": "9ac524a1",
   "metadata": {},
   "outputs": [
    {
     "name": "stdout",
     "output_type": "stream",
     "text": [
      "The total number of experiments is 4822 with on averange 4.27 packages considered per experiment and a variance of 2.1 packages \n"
     ]
    },
    {
     "data": {
      "image/png": "[encoded data removed]",
      "text/plain": [
       "<Figure size 1080x360 with 2 Axes>"
      ]
     },
     "metadata": {
      "needs_background": "light"
     },
     "output_type": "display_data"
    }
   ],
   "source": [
    "experiment_by_id = packages.groupby('clickability_test_id')\n",
    "count_by_experiment = packages.groupby('clickability_test_id').count()['created_at']\n",
    "\n",
    "nb_experiment = count_by_experiment.count()\n",
    "mean_nb_experiment = count_by_experiment.mean()\n",
    "variance_nb_experiment = count_by_experiment.var()\n",
    "print(\"The total number of experiments is %d with on averange %0.2f packages considered per experiment and a variance of %0.1f packages \" % (nb_experiment,mean_nb_experiment,variance_nb_experiment ))\n",
    "\n",
    "fig, (ax1, ax2) = plt.subplots(1, 2, figsize=(15, 5))\n",
    "fig.suptitle('Number of packages per expermient')\n",
    "ax1.hist(count_by_experiment.values, bins = 40 )\n",
    "\n",
    "### TODO Should we keep yscale = \"log\" ?\n",
    "\n",
    "ax1.set(xlabel='Number of packages', ylabel=\"Number of expermiments\", yscale = \"log\") \n",
    "ax2.boxplot(count_by_experiment)\n",
    "ax2 = ax2.set(xticks=[])"
   ]
  },
  {
   "cell_type": "markdown",
   "id": "a0a8771b",
   "metadata": {},
   "source": [
    "1.3 A common way to measure success in online A/B tests is what is called \"the clickthrough rate.\" Given that often A/B tests are created to find what engages users (here, \"packages\" of headlines, images, etc), we would expect that a \"good\" package makes people click often. Create a column named ctr by dividing the number of clicks a package received (clicks column) by the number of impressions it received (impressions column)."
   ]
  },
  {
   "cell_type": "code",
   "execution_count": 3,
   "id": "451e5d0f",
   "metadata": {},
   "outputs": [
    {
     "data": {
      "text/html": [
       "<div>\n",
       "<style scoped>\n",
       "    .dataframe tbody tr th:only-of-type {\n",
       "        vertical-align: middle;\n",
       "    }\n",
       "\n",
       "    .dataframe tbody tr th {\n",
       "        vertical-align: top;\n",
       "    }\n",
       "\n",
       "    .dataframe thead th {\n",
       "        text-align: right;\n",
       "    }\n",
       "</style>\n",
       "<table border=\"1\" class=\"dataframe\">\n",
       "  <thead>\n",
       "    <tr style=\"text-align: right;\">\n",
       "      <th></th>\n",
       "      <th>created_at</th>\n",
       "      <th>updated_at</th>\n",
       "      <th>clickability_test_id</th>\n",
       "      <th>excerpt</th>\n",
       "      <th>headline</th>\n",
       "      <th>lede</th>\n",
       "      <th>slug</th>\n",
       "      <th>eyecatcher_id</th>\n",
       "      <th>impressions</th>\n",
       "      <th>clicks</th>\n",
       "      <th>significance</th>\n",
       "      <th>first_place</th>\n",
       "      <th>winner</th>\n",
       "      <th>share_text</th>\n",
       "      <th>square</th>\n",
       "      <th>test_week</th>\n",
       "      <th>ctr</th>\n",
       "    </tr>\n",
       "  </thead>\n",
       "  <tbody>\n",
       "    <tr>\n",
       "      <th>7310</th>\n",
       "      <td>2013-07-08 21:20:09.751</td>\n",
       "      <td>2016-04-02 16:27:08.742</td>\n",
       "      <td>51db2af3b96d816dea00825f</td>\n",
       "      <td>A famous actor makes a frightening discovery a...</td>\n",
       "      <td>Dustin Hoffman Breaks Down Trying To Explain S...</td>\n",
       "      <td>&lt;p&gt;Back in the day, for those of you younger f...</td>\n",
       "      <td>dustin-hoffman-breaks-down-trying-to-explain-s...</td>\n",
       "      <td>5332bcd71fae79f09f00746c</td>\n",
       "      <td>1661</td>\n",
       "      <td>226</td>\n",
       "      <td>0.0</td>\n",
       "      <td>False</td>\n",
       "      <td>False</td>\n",
       "      <td>NaN</td>\n",
       "      <td>hoffman9.jpg</td>\n",
       "      <td>201327</td>\n",
       "      <td>0.136063</td>\n",
       "    </tr>\n",
       "    <tr>\n",
       "      <th>7545</th>\n",
       "      <td>2013-07-18 19:57:18.439</td>\n",
       "      <td>2016-04-02 16:27:13.724</td>\n",
       "      <td>51e8482dd0637d55cf000a49</td>\n",
       "      <td>The Daily Show rarely get this mad, but when t...</td>\n",
       "      <td>It's Rare That The Daily Show Slips Out Of Sat...</td>\n",
       "      <td>&lt;p&gt;\\n\\t                Leave it to the The Dai...</td>\n",
       "      <td>its-rare-that-the-daily-show-slips-out-of-sati...</td>\n",
       "      <td>5332bd531fae79f09f007fb0</td>\n",
       "      <td>2252</td>\n",
       "      <td>300</td>\n",
       "      <td>100.0</td>\n",
       "      <td>True</td>\n",
       "      <td>False</td>\n",
       "      <td>NaN</td>\n",
       "      <td>oliver4.jpg</td>\n",
       "      <td>201328</td>\n",
       "      <td>0.133215</td>\n",
       "    </tr>\n",
       "    <tr>\n",
       "      <th>7307</th>\n",
       "      <td>2013-07-08 21:18:24.892</td>\n",
       "      <td>2016-04-02 16:27:08.734</td>\n",
       "      <td>51db2af3b96d816dea00825f</td>\n",
       "      <td>A famous actor makes a frightening discovery a...</td>\n",
       "      <td>Dustin Hoffman Breaks Down Crying Trying To Ex...</td>\n",
       "      <td>&lt;p&gt;Back in the day, for those of you younger f...</td>\n",
       "      <td>dustin-hoffman-breaks-down-crying-trying-to-ex...</td>\n",
       "      <td>5332bcd71fae79f09f00746c</td>\n",
       "      <td>1536</td>\n",
       "      <td>196</td>\n",
       "      <td>0.0</td>\n",
       "      <td>False</td>\n",
       "      <td>False</td>\n",
       "      <td>NaN</td>\n",
       "      <td>hoffman9.jpg</td>\n",
       "      <td>201327</td>\n",
       "      <td>0.127604</td>\n",
       "    </tr>\n",
       "    <tr>\n",
       "      <th>7542</th>\n",
       "      <td>2013-07-18 19:56:33.946</td>\n",
       "      <td>2016-04-02 16:27:13.717</td>\n",
       "      <td>51e8482dd0637d55cf000a49</td>\n",
       "      <td>The Daily Show rarely get this mad, but when t...</td>\n",
       "      <td>It's Rare That The Daily Show Slips Out Of Sat...</td>\n",
       "      <td>&lt;p&gt;\\n\\t                 Leave it to the The Da...</td>\n",
       "      <td>its-rare-that-the-daily-show-slips-out-of-sati...</td>\n",
       "      <td>5332bd531fae79f09f007fad</td>\n",
       "      <td>2200</td>\n",
       "      <td>279</td>\n",
       "      <td>79.2</td>\n",
       "      <td>False</td>\n",
       "      <td>False</td>\n",
       "      <td>NaN</td>\n",
       "      <td>oliver2.jpg</td>\n",
       "      <td>201328</td>\n",
       "      <td>0.126818</td>\n",
       "    </tr>\n",
       "    <tr>\n",
       "      <th>16575</th>\n",
       "      <td>2014-09-17 20:55:13.084</td>\n",
       "      <td>2016-04-02 16:30:41.428</td>\n",
       "      <td>5419ed6f3088cfcf1f0000c0</td>\n",
       "      <td>Things that matter. Pass 'em on.</td>\n",
       "      <td>A Teen Comes Out To His Mom But His Mom Actual...</td>\n",
       "      <td>&lt;p&gt;Coming out can be pretty scary for lots of ...</td>\n",
       "      <td>a-teen-comes-out-to-his-mom-but-his-mom-actual...</td>\n",
       "      <td>5418e71f3088cf5bfc000023</td>\n",
       "      <td>6602</td>\n",
       "      <td>811</td>\n",
       "      <td>100.0</td>\n",
       "      <td>True</td>\n",
       "      <td>False</td>\n",
       "      <td>NaN</td>\n",
       "      <td>NaN</td>\n",
       "      <td>201437</td>\n",
       "      <td>0.122842</td>\n",
       "    </tr>\n",
       "  </tbody>\n",
       "</table>\n",
       "</div>"
      ],
      "text/plain": [
       "                   created_at              updated_at  \\\n",
       "7310  2013-07-08 21:20:09.751 2016-04-02 16:27:08.742   \n",
       "7545  2013-07-18 19:57:18.439 2016-04-02 16:27:13.724   \n",
       "7307  2013-07-08 21:18:24.892 2016-04-02 16:27:08.734   \n",
       "7542  2013-07-18 19:56:33.946 2016-04-02 16:27:13.717   \n",
       "16575 2014-09-17 20:55:13.084 2016-04-02 16:30:41.428   \n",
       "\n",
       "           clickability_test_id  \\\n",
       "7310   51db2af3b96d816dea00825f   \n",
       "7545   51e8482dd0637d55cf000a49   \n",
       "7307   51db2af3b96d816dea00825f   \n",
       "7542   51e8482dd0637d55cf000a49   \n",
       "16575  5419ed6f3088cfcf1f0000c0   \n",
       "\n",
       "                                                 excerpt  \\\n",
       "7310   A famous actor makes a frightening discovery a...   \n",
       "7545   The Daily Show rarely get this mad, but when t...   \n",
       "7307   A famous actor makes a frightening discovery a...   \n",
       "7542   The Daily Show rarely get this mad, but when t...   \n",
       "16575                   Things that matter. Pass 'em on.   \n",
       "\n",
       "                                                headline  \\\n",
       "7310   Dustin Hoffman Breaks Down Trying To Explain S...   \n",
       "7545   It's Rare That The Daily Show Slips Out Of Sat...   \n",
       "7307   Dustin Hoffman Breaks Down Crying Trying To Ex...   \n",
       "7542   It's Rare That The Daily Show Slips Out Of Sat...   \n",
       "16575  A Teen Comes Out To His Mom But His Mom Actual...   \n",
       "\n",
       "                                                    lede  \\\n",
       "7310   <p>Back in the day, for those of you younger f...   \n",
       "7545   <p>\\n\\t                Leave it to the The Dai...   \n",
       "7307   <p>Back in the day, for those of you younger f...   \n",
       "7542   <p>\\n\\t                 Leave it to the The Da...   \n",
       "16575  <p>Coming out can be pretty scary for lots of ...   \n",
       "\n",
       "                                                    slug  \\\n",
       "7310   dustin-hoffman-breaks-down-trying-to-explain-s...   \n",
       "7545   its-rare-that-the-daily-show-slips-out-of-sati...   \n",
       "7307   dustin-hoffman-breaks-down-crying-trying-to-ex...   \n",
       "7542   its-rare-that-the-daily-show-slips-out-of-sati...   \n",
       "16575  a-teen-comes-out-to-his-mom-but-his-mom-actual...   \n",
       "\n",
       "                  eyecatcher_id  impressions  clicks  significance  \\\n",
       "7310   5332bcd71fae79f09f00746c         1661     226           0.0   \n",
       "7545   5332bd531fae79f09f007fb0         2252     300         100.0   \n",
       "7307   5332bcd71fae79f09f00746c         1536     196           0.0   \n",
       "7542   5332bd531fae79f09f007fad         2200     279          79.2   \n",
       "16575  5418e71f3088cf5bfc000023         6602     811         100.0   \n",
       "\n",
       "       first_place  winner share_text        square  test_week       ctr  \n",
       "7310         False   False        NaN  hoffman9.jpg     201327  0.136063  \n",
       "7545          True   False        NaN   oliver4.jpg     201328  0.133215  \n",
       "7307         False   False        NaN  hoffman9.jpg     201327  0.127604  \n",
       "7542         False   False        NaN   oliver2.jpg     201328  0.126818  \n",
       "16575         True   False        NaN           NaN     201437  0.122842  "
      ]
     },
     "execution_count": 3,
     "metadata": {},
     "output_type": "execute_result"
    }
   ],
   "source": [
    "packages['ctr']= packages.apply(lambda row: row['clicks']/row['impressions'], axis=1)\n",
    "packages.sort_values(by='ctr', ascending=False).head()"
   ]
  },
  {
   "cell_type": "markdown",
   "id": "45dfc710",
   "metadata": {},
   "source": [
    "1.4 Packages varied any combination of the headline (headline column), the excerpt (excerpt), the first sentence of the article (lede), and the image that illustrates the news piece (eyecatcher_id, a hash per image). But we want to isolate the effect of the headline on the clickthrough rate. To do that, create a new dataframe where you filter all experiments where only one headline is present. Print the length of this new dataframe and how many experiments were discarded in the filtering process."
   ]
  },
  {
   "cell_type": "code",
   "execution_count": 4,
   "id": "f8ca9255",
   "metadata": {},
   "outputs": [
    {
     "name": "stdout",
     "output_type": "stream",
     "text": [
      "The new dataframe length is 11600 and 2236 experiments from 4822 were dropped \n"
     ]
    }
   ],
   "source": [
    "### Packages where there is more than one headline \n",
    "not_unique_headline_df = packages.groupby(by=['clickability_test_id']).filter(lambda x : x['headline'].nunique() != 1)\n",
    "\n",
    "### Number of expermient where there is more than one headline \n",
    "not_unique_headline_exp_count = not_unique_headline_df.groupby('clickability_test_id').count()['created_at'].count()\n",
    "print(\"The new dataframe length is %d and %d experiments from %d were dropped \" % (len(not_unique_headline_df), nb_experiment-not_unique_headline_exp_count, nb_experiment))\n"
   ]
  },
  {
   "cell_type": "markdown",
   "id": "ce40ed3d",
   "metadata": {},
   "source": [
    "1.5 For comparison, repeat the procedure described in T1.4 with the eyecatcher_id column, i.e., create a dataframe considering only experiments that vary the image. Again, print the length of this new dataframe and how many experiments were discarded in the filtering process."
   ]
  },
  {
   "cell_type": "code",
   "execution_count": 5,
   "id": "1fa9e8ad",
   "metadata": {},
   "outputs": [
    {
     "name": "stdout",
     "output_type": "stream",
     "text": [
      "The new dataframe length is 7948 and 3103 experiments from 4822 were dropped \n"
     ]
    }
   ],
   "source": [
    "### Packages where there is more than one image \n",
    "not_unique_image_df = packages.groupby(by=['clickability_test_id']).filter(lambda x : x['eyecatcher_id'].nunique() != 1)\n",
    "\n",
    "### Number of expermient where there is more than one image \n",
    "not_unique_image_exp_count = not_unique_image_df.groupby('clickability_test_id').count()['created_at'].count()\n",
    "print(\"The new dataframe length is %d and %d experiments from %d were dropped \" % (len(not_unique_image_df), nb_experiment-not_unique_image_exp_count, nb_experiment))\n"
   ]
  },
  {
   "cell_type": "markdown",
   "id": "92be3f14",
   "metadata": {},
   "source": [
    "1.6 **Discuss:** Considering the answers to questions **T1.4** and **T1.4**, what can we say about the different versions of the news tested by Upworthy?"
   ]
  },
  {
   "cell_type": "markdown",
   "id": "97b22f7c",
   "metadata": {},
   "source": []
  },
  {
   "cell_type": "markdown",
   "id": "4d2d76a6",
   "metadata": {},
   "source": [
    "1.7 For our subsequent analysis, we want to compare the causal effect of headlines on the success of a news piece. \n",
    "For that, we can compare pairs of packages with the same `eyecatcher_id`, `lede`, and `excerpt`, but different `headlines`.\n",
    "Note that this means that if an experiment considered 5 different headlines and did not vary any other stimulus, we would have 5C2 (i.e., 5 choose 2, 10) pairs to consider.\n",
    "Create a dataset where:\n",
    "- each row corresponds to a pair of packages with different `headline` but the same `eyecatcher_id`, `lede`, and `excerpt`. \n",
    "- there are columns containing the headlines of each of the news versions (`headline1`, `headline2`) and the clickthrough rate of each of the news versions (`ctr1`, `ctr2`). \n",
    "- the columns `headline1` and `ctr1` contain the data associated with the news version with the highest clickthrough rate. Print the first columns of your newly created dataframe, as well as its length.\n",
    "-  the columns where the two news pieces had exactly the same clickthrough rate should be filtered out (this is for simplicity's sake).\n",
    "-  the column `date_created` contains the date when the news version with the highest clickthrough rate was created.\n"
   ]
  },
  {
   "cell_type": "code",
   "execution_count": 6,
   "id": "3044f2ae",
   "metadata": {},
   "outputs": [],
   "source": [
    "filtered_unique_head_df = not_unique_headline_df.groupby(by=['clickability_test_id']).filter(lambda x : x['eyecatcher_id'].nunique() == 1 and x['lede'].nunique() == 1  and x['excerpt'].nunique() == 1  and x['headline'].nunique()== len(x['headline']) )\n",
    "filtered_unique_head_df = filtered_unique_head_df.dropna(subset=['excerpt','eyecatcher_id','lede'])\n"
   ]
  },
  {
   "cell_type": "code",
   "execution_count": 7,
   "id": "544ef4d8",
   "metadata": {},
   "outputs": [
    {
     "name": "stdout",
     "output_type": "stream",
     "text": [
      "The DataSetLength is equal to 14148 \n"
     ]
    },
    {
     "data": {
      "text/html": [
       "<div>\n",
       "<style scoped>\n",
       "    .dataframe tbody tr th:only-of-type {\n",
       "        vertical-align: middle;\n",
       "    }\n",
       "\n",
       "    .dataframe tbody tr th {\n",
       "        vertical-align: top;\n",
       "    }\n",
       "\n",
       "    .dataframe thead th {\n",
       "        text-align: right;\n",
       "    }\n",
       "</style>\n",
       "<table border=\"1\" class=\"dataframe\">\n",
       "  <thead>\n",
       "    <tr style=\"text-align: right;\">\n",
       "      <th></th>\n",
       "      <th>clickability_test_id</th>\n",
       "      <th>headline1</th>\n",
       "      <th>headline2</th>\n",
       "      <th>ctr1</th>\n",
       "      <th>ctr2</th>\n",
       "      <th>date_created</th>\n",
       "    </tr>\n",
       "  </thead>\n",
       "  <tbody>\n",
       "    <tr>\n",
       "      <th>14707</th>\n",
       "      <td>51436069220cb800020005bd</td>\n",
       "      <td>Mr. President, I'm Not Mad. I'm Just Disappoin...</td>\n",
       "      <td>Mr. President, I'm Not Mad. I'm Just Disappoin...</td>\n",
       "      <td>0.019770</td>\n",
       "      <td>0.016595</td>\n",
       "      <td>2013-02-07 05:42:25</td>\n",
       "    </tr>\n",
       "    <tr>\n",
       "      <th>14828</th>\n",
       "      <td>5143606e220cb800020006ba</td>\n",
       "      <td>This Woman's Beef With Prettiness Will Leave Y...</td>\n",
       "      <td>Why Doesn't This Woman Want Her Daughter To Be...</td>\n",
       "      <td>0.040389</td>\n",
       "      <td>0.034483</td>\n",
       "      <td>2013-03-26 01:52:52</td>\n",
       "    </tr>\n",
       "    <tr>\n",
       "      <th>14824</th>\n",
       "      <td>5143606e220cb800020006ba</td>\n",
       "      <td>This Woman's Beef With Prettiness Will Leave Y...</td>\n",
       "      <td>Now For Sale: Daughters, $10,000 Each (If They...</td>\n",
       "      <td>0.040389</td>\n",
       "      <td>0.034099</td>\n",
       "      <td>2013-03-26 01:52:52</td>\n",
       "    </tr>\n",
       "    <tr>\n",
       "      <th>14833</th>\n",
       "      <td>5143606e220cb800020006ba</td>\n",
       "      <td>This Woman's Beef With Prettiness Will Leave Y...</td>\n",
       "      <td>Why This Woman Thinks Pretty Isn't Enough</td>\n",
       "      <td>0.040389</td>\n",
       "      <td>0.025942</td>\n",
       "      <td>2013-03-26 01:52:52</td>\n",
       "    </tr>\n",
       "    <tr>\n",
       "      <th>14823</th>\n",
       "      <td>5143606e220cb800020006ba</td>\n",
       "      <td>Why Doesn't This Woman Want Her Daughter To Be...</td>\n",
       "      <td>Now For Sale: Daughters, $10,000 Each (If They...</td>\n",
       "      <td>0.034483</td>\n",
       "      <td>0.034099</td>\n",
       "      <td>2013-03-26 01:52:31</td>\n",
       "    </tr>\n",
       "    <tr>\n",
       "      <th>14829</th>\n",
       "      <td>5143606e220cb800020006ba</td>\n",
       "      <td>Why Doesn't This Woman Want Her Daughter To Be...</td>\n",
       "      <td>Why This Woman Thinks Pretty Isn't Enough</td>\n",
       "      <td>0.034483</td>\n",
       "      <td>0.025942</td>\n",
       "      <td>2013-03-26 01:52:31</td>\n",
       "    </tr>\n",
       "    <tr>\n",
       "      <th>14825</th>\n",
       "      <td>5143606e220cb800020006ba</td>\n",
       "      <td>Now For Sale: Daughters, $10,000 Each (If They...</td>\n",
       "      <td>Why This Woman Thinks Pretty Isn't Enough</td>\n",
       "      <td>0.034099</td>\n",
       "      <td>0.025942</td>\n",
       "      <td>2013-03-26 01:52:11</td>\n",
       "    </tr>\n",
       "    <tr>\n",
       "      <th>14761</th>\n",
       "      <td>51436071220cb80002000788</td>\n",
       "      <td>How To Stop A Child From Smoking In 30 Seconds</td>\n",
       "      <td>Finally, A Reason To Quit Smoking That Doesn’t...</td>\n",
       "      <td>0.028874</td>\n",
       "      <td>0.020911</td>\n",
       "      <td>2013-02-11 20:21:56</td>\n",
       "    </tr>\n",
       "    <tr>\n",
       "      <th>14760</th>\n",
       "      <td>51436071220cb80002000788</td>\n",
       "      <td>How To Stop A Child From Smoking In 30 Seconds</td>\n",
       "      <td>The 30-Second Way To Stop Half Of America’s Yo...</td>\n",
       "      <td>0.028874</td>\n",
       "      <td>0.019268</td>\n",
       "      <td>2013-02-11 20:21:56</td>\n",
       "    </tr>\n",
       "    <tr>\n",
       "      <th>14759</th>\n",
       "      <td>51436071220cb80002000788</td>\n",
       "      <td>How To Stop A Child From Smoking In 30 Seconds</td>\n",
       "      <td>Kids Love To Smoke Cigarettes, Right?</td>\n",
       "      <td>0.028874</td>\n",
       "      <td>0.013498</td>\n",
       "      <td>2013-02-11 20:21:56</td>\n",
       "    </tr>\n",
       "  </tbody>\n",
       "</table>\n",
       "</div>"
      ],
      "text/plain": [
       "           clickability_test_id  \\\n",
       "14707  51436069220cb800020005bd   \n",
       "14828  5143606e220cb800020006ba   \n",
       "14824  5143606e220cb800020006ba   \n",
       "14833  5143606e220cb800020006ba   \n",
       "14823  5143606e220cb800020006ba   \n",
       "14829  5143606e220cb800020006ba   \n",
       "14825  5143606e220cb800020006ba   \n",
       "14761  51436071220cb80002000788   \n",
       "14760  51436071220cb80002000788   \n",
       "14759  51436071220cb80002000788   \n",
       "\n",
       "                                               headline1  \\\n",
       "14707  Mr. President, I'm Not Mad. I'm Just Disappoin...   \n",
       "14828  This Woman's Beef With Prettiness Will Leave Y...   \n",
       "14824  This Woman's Beef With Prettiness Will Leave Y...   \n",
       "14833  This Woman's Beef With Prettiness Will Leave Y...   \n",
       "14823  Why Doesn't This Woman Want Her Daughter To Be...   \n",
       "14829  Why Doesn't This Woman Want Her Daughter To Be...   \n",
       "14825  Now For Sale: Daughters, $10,000 Each (If They...   \n",
       "14761     How To Stop A Child From Smoking In 30 Seconds   \n",
       "14760     How To Stop A Child From Smoking In 30 Seconds   \n",
       "14759     How To Stop A Child From Smoking In 30 Seconds   \n",
       "\n",
       "                                               headline2      ctr1      ctr2  \\\n",
       "14707  Mr. President, I'm Not Mad. I'm Just Disappoin...  0.019770  0.016595   \n",
       "14828  Why Doesn't This Woman Want Her Daughter To Be...  0.040389  0.034483   \n",
       "14824  Now For Sale: Daughters, $10,000 Each (If They...  0.040389  0.034099   \n",
       "14833          Why This Woman Thinks Pretty Isn't Enough  0.040389  0.025942   \n",
       "14823  Now For Sale: Daughters, $10,000 Each (If They...  0.034483  0.034099   \n",
       "14829          Why This Woman Thinks Pretty Isn't Enough  0.034483  0.025942   \n",
       "14825          Why This Woman Thinks Pretty Isn't Enough  0.034099  0.025942   \n",
       "14761  Finally, A Reason To Quit Smoking That Doesn’t...  0.028874  0.020911   \n",
       "14760  The 30-Second Way To Stop Half Of America’s Yo...  0.028874  0.019268   \n",
       "14759              Kids Love To Smoke Cigarettes, Right?  0.028874  0.013498   \n",
       "\n",
       "             date_created  \n",
       "14707 2013-02-07 05:42:25  \n",
       "14828 2013-03-26 01:52:52  \n",
       "14824 2013-03-26 01:52:52  \n",
       "14833 2013-03-26 01:52:52  \n",
       "14823 2013-03-26 01:52:31  \n",
       "14829 2013-03-26 01:52:31  \n",
       "14825 2013-03-26 01:52:11  \n",
       "14761 2013-02-11 20:21:56  \n",
       "14760 2013-02-11 20:21:56  \n",
       "14759 2013-02-11 20:21:56  "
      ]
     },
     "execution_count": 7,
     "metadata": {},
     "output_type": "execute_result"
    }
   ],
   "source": [
    "### Join the table with itself using considering 'clickability_test_id', 'eyecatcher_id', 'lede','excerpt' for joining\n",
    "comparaison = filtered_unique_head_df.merge(filtered_unique_head_df, \n",
    "                                          on = ['clickability_test_id', 'eyecatcher_id', 'lede','excerpt' ],\n",
    "                                         how ='inner')\n",
    "\n",
    "### Filtering out rows where clickthrough rate is identical\n",
    "comparaison = comparaison.drop(comparaison[comparaison['ctr_x']==comparaison['ctr_y']].index)\n",
    "\n",
    "### New dataframe  \n",
    "comparaison_final = pd.DataFrame()\n",
    "### Retreiving ids for identification  \n",
    "comparaison_final['clickability_test_id']= comparaison['clickability_test_id']\n",
    "### Selecting headline1, headline2 , ctr1, ctr2, date_created based on ctr_comapraison criteria  \n",
    "comparaison_final['headline1'] = comparaison.apply(lambda row : row['headline_x'] if row['ctr_x']>row['ctr_y'] else row['headline_y'], axis=1 )\n",
    "comparaison_final['headline2'] = comparaison.apply(lambda row : row['headline_x'] if row['ctr_x']<row['ctr_y'] else row['headline_y'], axis=1 )\n",
    "comparaison_final['ctr1'] = comparaison.apply(lambda row : row['ctr_x'] if row['ctr_x']>row['ctr_y'] else row['ctr_y'], axis=1 )\n",
    "comparaison_final['ctr2'] = comparaison.apply(lambda row : row['ctr_x'] if row['ctr_x']<row['ctr_y'] else row['ctr_y'], axis=1 )\n",
    "comparaison_final['date_created'] = comparaison.apply(lambda row : row['created_at_x'] if row['ctr_x']>row['ctr_y'] else row['created_at_y'], axis=1 )\n",
    "### Dropping duplicates\n",
    "comparaison_final= comparaison_final.drop_duplicates()\n",
    "print('The DataSetLength is equal to %d ' % len(comparaison_final))\n",
    "comparaison_final.sort_values(by=['clickability_test_id','ctr1','ctr2'], ascending=[True, False, False]).head(10)"
   ]
  },
  {
   "cell_type": "markdown",
   "id": "d5471fe7",
   "metadata": {},
   "source": [
    "1.8 To get a sense of the impact of headline change, measure the average difference per pair between the most clicked-through (`ctr1`) and the least clicked-through headline (`ctr2`), as well as the average clickthrough rate for the least clicked through headline (`ctr2`). "
   ]
  },
  {
   "cell_type": "code",
   "execution_count": 8,
   "id": "170cbae6",
   "metadata": {},
   "outputs": [
    {
     "name": "stdout",
     "output_type": "stream",
     "text": [
      "The average difference per pair between the most clicked-through and the least clicked-through headline is 0.004131 and the average clickthrough rate for the least clicked through headline is 0.010860\n"
     ]
    }
   ],
   "source": [
    "comparaison_final['delta_ctr'] = comparaison_final.apply(lambda row : row['ctr1'] - row['ctr2'],axis=1 )\n",
    "\n",
    "print('The average difference per pair between the most clicked-through and the least clicked-through headline is %f and the average clickthrough rate for the least clicked through headline is %f'%(comparaison_final['delta_ctr'].mean(),comparaison_final['ctr2'].mean()))"
   ]
  },
  {
   "cell_type": "markdown",
   "id": "00795a15",
   "metadata": {},
   "source": [
    "## Task 2: Extracting signals from the data\n",
    "\n",
    "Your second task is to extract meaningful signals from the data. \n",
    "We start this task from the dataset obtained in **T1.7**. \n",
    "Recall that we have one A/B test per row with the clickthrough rate of two news pieces that differ only in their headline. \n",
    "We refer to the version with the higher clickthrough rate as the \"winner\" and the version with the lower as the \"loser.\" \n",
    "(Note that this is not the same as the column `winner` in the original data, which captures a similar concept but considering the original experiments, where multiple comparisons were made!)\n",
    " \n",
    "2.1 Using the function provided below, count the number of words in each headline, creating columns `numwords1` and `numwords2` corresponding to the number of words in the winner and loser headlines.\n",
    "\n",
    "2.2 Using the dictionary of pronouns provided below, create indicator variables corresponding to each set of pronouns (e.g., first-person singular may yield columns `first_person_singular1` and `first_person_singular2` for the headlines in each A/B test). \n",
    "Each indicator variable in the dataframe should equal 1 if the corresponding headline uses the corresponding type of pronoun and 0 otherwise. \n",
    "Your code should be agnostic to lower/upper case.\n",
    "\n",
    "2.3 One easy way to classify sentiment is simply to match negative or positive words. \n",
    "Use the linked lists of words ([positive][1], [negative][2]) to obtain \"positive sentiment\" and \"negative sentiment\" scores for each headline. Create columns `positive1`/`positive2` and `negative1`/`negative2` containing indicator variables for positive and negative sentiment, i.e., A headline has a \"positive sentiment\" (or negative) score equal 1 if it contains at least one positive (or negative) sentiment word on the list. Otherwise, its \"positive sentiment\" (or negative) score equals 0.\n",
    "    \n",
    "[1]: https://ptrckprry.com/course/ssd/data/positive-words.txt\n",
    "[2]: https://ptrckprry.com/course/ssd/data/negative-words.txt\n",
    "\n",
    "--- \n",
    "\n",
    "**Comments**\n",
    "\n",
    "- For **T2.3**, beware of encodings!"
   ]
  },
  {
   "cell_type": "markdown",
   "id": "f74fc40d",
   "metadata": {},
   "source": [
    "2.1 Using the function provided below, count the number of words in each headline, creating columns `numwords1` and `numwords2` corresponding to the number of words in the winner and loser headlines."
   ]
  },
  {
   "cell_type": "code",
   "execution_count": 9,
   "id": "d3a02032",
   "metadata": {},
   "outputs": [
    {
     "name": "stdout",
     "output_type": "stream",
     "text": [
      "How many words are here? 5\n"
     ]
    }
   ],
   "source": [
    "# 2.1 (provided code)\n",
    "def count_words_simple(x):\n",
    "    return len(x.split(\" \"))\n",
    "str_test = \"How many words are here?\"\n",
    "print(str_test, count_words_simple(str_test))"
   ]
  },
  {
   "cell_type": "code",
   "execution_count": 10,
   "id": "6db63064",
   "metadata": {},
   "outputs": [
    {
     "data": {
      "text/html": [
       "<div>\n",
       "<style scoped>\n",
       "    .dataframe tbody tr th:only-of-type {\n",
       "        vertical-align: middle;\n",
       "    }\n",
       "\n",
       "    .dataframe tbody tr th {\n",
       "        vertical-align: top;\n",
       "    }\n",
       "\n",
       "    .dataframe thead th {\n",
       "        text-align: right;\n",
       "    }\n",
       "</style>\n",
       "<table border=\"1\" class=\"dataframe\">\n",
       "  <thead>\n",
       "    <tr style=\"text-align: right;\">\n",
       "      <th></th>\n",
       "      <th>clickability_test_id</th>\n",
       "      <th>headline1</th>\n",
       "      <th>headline2</th>\n",
       "      <th>ctr1</th>\n",
       "      <th>ctr2</th>\n",
       "      <th>date_created</th>\n",
       "      <th>delta_ctr</th>\n",
       "      <th>numwords1</th>\n",
       "      <th>numwords2</th>\n",
       "    </tr>\n",
       "  </thead>\n",
       "  <tbody>\n",
       "    <tr>\n",
       "      <th>1</th>\n",
       "      <td>546e009a9ad54ec65b00004b</td>\n",
       "      <td>A Science Guy Helps 3 Dudes From America Under...</td>\n",
       "      <td>What They Learned From The Scientist Was Terri...</td>\n",
       "      <td>0.012689</td>\n",
       "      <td>0.011101</td>\n",
       "      <td>2014-11-20 14:54:18.780</td>\n",
       "      <td>0.001587</td>\n",
       "      <td>14</td>\n",
       "      <td>15</td>\n",
       "    </tr>\n",
       "    <tr>\n",
       "      <th>2</th>\n",
       "      <td>546e009a9ad54ec65b00004b</td>\n",
       "      <td>What They Learned From The Scientist Was Terri...</td>\n",
       "      <td>He Sat Them Down And Told Them About An Immine...</td>\n",
       "      <td>0.011101</td>\n",
       "      <td>0.005868</td>\n",
       "      <td>2014-11-20 14:57:52.478</td>\n",
       "      <td>0.005233</td>\n",
       "      <td>15</td>\n",
       "      <td>19</td>\n",
       "    </tr>\n",
       "    <tr>\n",
       "      <th>3</th>\n",
       "      <td>546e009a9ad54ec65b00004b</td>\n",
       "      <td>The 3 Of Them Needed To See It In Person, And ...</td>\n",
       "      <td>What They Learned From The Scientist Was Terri...</td>\n",
       "      <td>0.013795</td>\n",
       "      <td>0.011101</td>\n",
       "      <td>2014-11-20 15:13:36.266</td>\n",
       "      <td>0.002693</td>\n",
       "      <td>21</td>\n",
       "      <td>15</td>\n",
       "    </tr>\n",
       "    <tr>\n",
       "      <th>4</th>\n",
       "      <td>546e009a9ad54ec65b00004b</td>\n",
       "      <td>What They Learned From The Scientist Was Terri...</td>\n",
       "      <td>They May Not Be The Most Handsome Dudes, But T...</td>\n",
       "      <td>0.011101</td>\n",
       "      <td>0.009726</td>\n",
       "      <td>2014-11-20 14:57:52.478</td>\n",
       "      <td>0.001376</td>\n",
       "      <td>15</td>\n",
       "      <td>16</td>\n",
       "    </tr>\n",
       "    <tr>\n",
       "      <th>5</th>\n",
       "      <td>546e009a9ad54ec65b00004b</td>\n",
       "      <td>He Showed Them Some Slides That Freaked Them O...</td>\n",
       "      <td>What They Learned From The Scientist Was Terri...</td>\n",
       "      <td>0.011568</td>\n",
       "      <td>0.011101</td>\n",
       "      <td>2014-11-20 15:09:47.669</td>\n",
       "      <td>0.000467</td>\n",
       "      <td>16</td>\n",
       "      <td>15</td>\n",
       "    </tr>\n",
       "  </tbody>\n",
       "</table>\n",
       "</div>"
      ],
      "text/plain": [
       "       clickability_test_id  \\\n",
       "1  546e009a9ad54ec65b00004b   \n",
       "2  546e009a9ad54ec65b00004b   \n",
       "3  546e009a9ad54ec65b00004b   \n",
       "4  546e009a9ad54ec65b00004b   \n",
       "5  546e009a9ad54ec65b00004b   \n",
       "\n",
       "                                           headline1  \\\n",
       "1  A Science Guy Helps 3 Dudes From America Under...   \n",
       "2  What They Learned From The Scientist Was Terri...   \n",
       "3  The 3 Of Them Needed To See It In Person, And ...   \n",
       "4  What They Learned From The Scientist Was Terri...   \n",
       "5  He Showed Them Some Slides That Freaked Them O...   \n",
       "\n",
       "                                           headline2      ctr1      ctr2  \\\n",
       "1  What They Learned From The Scientist Was Terri...  0.012689  0.011101   \n",
       "2  He Sat Them Down And Told Them About An Immine...  0.011101  0.005868   \n",
       "3  What They Learned From The Scientist Was Terri...  0.013795  0.011101   \n",
       "4  They May Not Be The Most Handsome Dudes, But T...  0.011101  0.009726   \n",
       "5  What They Learned From The Scientist Was Terri...  0.011568  0.011101   \n",
       "\n",
       "             date_created  delta_ctr  numwords1  numwords2  \n",
       "1 2014-11-20 14:54:18.780   0.001587         14         15  \n",
       "2 2014-11-20 14:57:52.478   0.005233         15         19  \n",
       "3 2014-11-20 15:13:36.266   0.002693         21         15  \n",
       "4 2014-11-20 14:57:52.478   0.001376         15         16  \n",
       "5 2014-11-20 15:09:47.669   0.000467         16         15  "
      ]
     },
     "execution_count": 10,
     "metadata": {},
     "output_type": "execute_result"
    }
   ],
   "source": [
    "comparaison_final['numwords1'] = comparaison_final.apply(lambda row : count_words_simple(row['headline1']), axis=1)\n",
    "comparaison_final['numwords2'] = comparaison_final.apply(lambda row : count_words_simple(row['headline2']), axis=1)\n",
    "comparaison_final.head()"
   ]
  },
  {
   "cell_type": "markdown",
   "id": "12e3a3b6",
   "metadata": {},
   "source": [
    "2.2 Using the dictionary of pronouns provided below, create indicator variables corresponding to each set of pronouns (e.g., first-person singular may yield columns `first_person_singular1` and `first_person_singular2` for the headlines in each A/B test). \n",
    "Each indicator variable in the dataframe should equal 1 if the corresponding headline uses the corresponding type of pronoun and 0 otherwise. \n",
    "Your code should be agnostic to lower/upper case.\n"
   ]
  },
  {
   "cell_type": "code",
   "execution_count": 11,
   "id": "a6ac4213",
   "metadata": {},
   "outputs": [],
   "source": [
    "# 2.2 (provided code)\n",
    "feature_wordsets = dict([\n",
    "    # https://en.wikipedia.org/wiki/English_personal_pronouns\n",
    "    ('first_person_singular', ['i', 'me', 'my', 'mine', 'myself',\n",
    "                               \"i'd\", \"i'll\", \"i'm\", \"i've\", 'id', 'im', 'ive']),\n",
    "    ('first_person_plural', ['we', 'us', 'our', 'ours', 'ourselves',\n",
    "                              \"we'd\", \"we'll\", \"we're\", \"we've\",]),\n",
    "    ('second_person', ['you','your','yours','yourself',\n",
    "                              \"ya\", \"you'd\", \"you'll\", \"you're\", \"you've\", 'youll', 'youre', 'youve', \n",
    "                              'yourselves']),\n",
    "    ('third_person_singular', ['he','him','his','himself',\n",
    "                               \"he'd\", \"he's\", 'hes',\n",
    "                               'she','her','hers','herself', \n",
    "                               \"she'll\", \"she's\", 'shes',\n",
    "                               'it','its','itself',\n",
    "                               'themself']),\n",
    "    ('third_person_plural', ['they','them','their','theirs','themselves',\n",
    "                              \"they'd\", \"they'll\", \"they've\", 'theyll', 'theyve'])\n",
    "])"
   ]
  },
  {
   "cell_type": "code",
   "execution_count": 12,
   "id": "4f75cb43",
   "metadata": {},
   "outputs": [],
   "source": [
    "for i in range (1,3): \n",
    "    for key in feature_wordsets : \n",
    "        comparaison_final[key+str(i)]= comparaison_final.apply(lambda row : \n",
    "        0 if len(set(row['headline'+str(i)].lower().split(' ')) & set(feature_wordsets[key]))==0 else 1, axis=1)\n",
    "        "
   ]
  },
  {
   "cell_type": "code",
   "execution_count": 13,
   "id": "6a1f654f",
   "metadata": {},
   "outputs": [
    {
     "data": {
      "text/html": [
       "<div>\n",
       "<style scoped>\n",
       "    .dataframe tbody tr th:only-of-type {\n",
       "        vertical-align: middle;\n",
       "    }\n",
       "\n",
       "    .dataframe tbody tr th {\n",
       "        vertical-align: top;\n",
       "    }\n",
       "\n",
       "    .dataframe thead th {\n",
       "        text-align: right;\n",
       "    }\n",
       "</style>\n",
       "<table border=\"1\" class=\"dataframe\">\n",
       "  <thead>\n",
       "    <tr style=\"text-align: right;\">\n",
       "      <th></th>\n",
       "      <th>clickability_test_id</th>\n",
       "      <th>headline1</th>\n",
       "      <th>headline2</th>\n",
       "      <th>ctr1</th>\n",
       "      <th>ctr2</th>\n",
       "      <th>date_created</th>\n",
       "      <th>delta_ctr</th>\n",
       "      <th>numwords1</th>\n",
       "      <th>numwords2</th>\n",
       "      <th>first_person_singular1</th>\n",
       "      <th>first_person_plural1</th>\n",
       "      <th>second_person1</th>\n",
       "      <th>third_person_singular1</th>\n",
       "      <th>third_person_plural1</th>\n",
       "      <th>first_person_singular2</th>\n",
       "      <th>first_person_plural2</th>\n",
       "      <th>second_person2</th>\n",
       "      <th>third_person_singular2</th>\n",
       "      <th>third_person_plural2</th>\n",
       "    </tr>\n",
       "  </thead>\n",
       "  <tbody>\n",
       "    <tr>\n",
       "      <th>17339</th>\n",
       "      <td>51db2af3b96d816dea00825f</td>\n",
       "      <td>Dustin Hoffman Breaks Down Trying To Explain S...</td>\n",
       "      <td>Dustin Hoffman Breaks Down Crying Trying To Ex...</td>\n",
       "      <td>0.136063</td>\n",
       "      <td>0.127604</td>\n",
       "      <td>2013-07-08 21:20:09.751</td>\n",
       "      <td>0.008458</td>\n",
       "      <td>14</td>\n",
       "      <td>15</td>\n",
       "      <td>0</td>\n",
       "      <td>0</td>\n",
       "      <td>0</td>\n",
       "      <td>0</td>\n",
       "      <td>0</td>\n",
       "      <td>0</td>\n",
       "      <td>0</td>\n",
       "      <td>0</td>\n",
       "      <td>0</td>\n",
       "      <td>0</td>\n",
       "    </tr>\n",
       "    <tr>\n",
       "      <th>17343</th>\n",
       "      <td>51db2af3b96d816dea00825f</td>\n",
       "      <td>Dustin Hoffman Breaks Down Trying To Explain S...</td>\n",
       "      <td>Dustin Hoffman Loses It Trying To Explain Some...</td>\n",
       "      <td>0.136063</td>\n",
       "      <td>0.113088</td>\n",
       "      <td>2013-07-08 21:20:09.751</td>\n",
       "      <td>0.022974</td>\n",
       "      <td>14</td>\n",
       "      <td>14</td>\n",
       "      <td>0</td>\n",
       "      <td>0</td>\n",
       "      <td>0</td>\n",
       "      <td>0</td>\n",
       "      <td>0</td>\n",
       "      <td>0</td>\n",
       "      <td>0</td>\n",
       "      <td>0</td>\n",
       "      <td>1</td>\n",
       "      <td>0</td>\n",
       "    </tr>\n",
       "    <tr>\n",
       "      <th>17347</th>\n",
       "      <td>51db2af3b96d816dea00825f</td>\n",
       "      <td>Dustin Hoffman Breaks Down Trying To Explain S...</td>\n",
       "      <td>Dustin Hoffman Loses It Trying To Explain Some...</td>\n",
       "      <td>0.136063</td>\n",
       "      <td>0.121882</td>\n",
       "      <td>2013-07-08 21:20:09.751</td>\n",
       "      <td>0.014181</td>\n",
       "      <td>14</td>\n",
       "      <td>14</td>\n",
       "      <td>0</td>\n",
       "      <td>0</td>\n",
       "      <td>0</td>\n",
       "      <td>0</td>\n",
       "      <td>0</td>\n",
       "      <td>0</td>\n",
       "      <td>0</td>\n",
       "      <td>0</td>\n",
       "      <td>1</td>\n",
       "      <td>0</td>\n",
       "    </tr>\n",
       "    <tr>\n",
       "      <th>17337</th>\n",
       "      <td>51db2af3b96d816dea00825f</td>\n",
       "      <td>Dustin Hoffman Breaks Down Crying Trying To Ex...</td>\n",
       "      <td>Dustin Hoffman Loses It Trying To Explain Some...</td>\n",
       "      <td>0.127604</td>\n",
       "      <td>0.113088</td>\n",
       "      <td>2013-07-08 21:18:24.892</td>\n",
       "      <td>0.014516</td>\n",
       "      <td>15</td>\n",
       "      <td>14</td>\n",
       "      <td>0</td>\n",
       "      <td>0</td>\n",
       "      <td>0</td>\n",
       "      <td>0</td>\n",
       "      <td>0</td>\n",
       "      <td>0</td>\n",
       "      <td>0</td>\n",
       "      <td>0</td>\n",
       "      <td>1</td>\n",
       "      <td>0</td>\n",
       "    </tr>\n",
       "    <tr>\n",
       "      <th>17338</th>\n",
       "      <td>51db2af3b96d816dea00825f</td>\n",
       "      <td>Dustin Hoffman Breaks Down Crying Trying To Ex...</td>\n",
       "      <td>Dustin Hoffman Loses It Trying To Explain Some...</td>\n",
       "      <td>0.127604</td>\n",
       "      <td>0.121882</td>\n",
       "      <td>2013-07-08 21:18:24.892</td>\n",
       "      <td>0.005722</td>\n",
       "      <td>15</td>\n",
       "      <td>14</td>\n",
       "      <td>0</td>\n",
       "      <td>0</td>\n",
       "      <td>0</td>\n",
       "      <td>0</td>\n",
       "      <td>0</td>\n",
       "      <td>0</td>\n",
       "      <td>0</td>\n",
       "      <td>0</td>\n",
       "      <td>1</td>\n",
       "      <td>0</td>\n",
       "    </tr>\n",
       "  </tbody>\n",
       "</table>\n",
       "</div>"
      ],
      "text/plain": [
       "           clickability_test_id  \\\n",
       "17339  51db2af3b96d816dea00825f   \n",
       "17343  51db2af3b96d816dea00825f   \n",
       "17347  51db2af3b96d816dea00825f   \n",
       "17337  51db2af3b96d816dea00825f   \n",
       "17338  51db2af3b96d816dea00825f   \n",
       "\n",
       "                                               headline1  \\\n",
       "17339  Dustin Hoffman Breaks Down Trying To Explain S...   \n",
       "17343  Dustin Hoffman Breaks Down Trying To Explain S...   \n",
       "17347  Dustin Hoffman Breaks Down Trying To Explain S...   \n",
       "17337  Dustin Hoffman Breaks Down Crying Trying To Ex...   \n",
       "17338  Dustin Hoffman Breaks Down Crying Trying To Ex...   \n",
       "\n",
       "                                               headline2      ctr1      ctr2  \\\n",
       "17339  Dustin Hoffman Breaks Down Crying Trying To Ex...  0.136063  0.127604   \n",
       "17343  Dustin Hoffman Loses It Trying To Explain Some...  0.136063  0.113088   \n",
       "17347  Dustin Hoffman Loses It Trying To Explain Some...  0.136063  0.121882   \n",
       "17337  Dustin Hoffman Loses It Trying To Explain Some...  0.127604  0.113088   \n",
       "17338  Dustin Hoffman Loses It Trying To Explain Some...  0.127604  0.121882   \n",
       "\n",
       "                 date_created  delta_ctr  numwords1  numwords2  \\\n",
       "17339 2013-07-08 21:20:09.751   0.008458         14         15   \n",
       "17343 2013-07-08 21:20:09.751   0.022974         14         14   \n",
       "17347 2013-07-08 21:20:09.751   0.014181         14         14   \n",
       "17337 2013-07-08 21:18:24.892   0.014516         15         14   \n",
       "17338 2013-07-08 21:18:24.892   0.005722         15         14   \n",
       "\n",
       "       first_person_singular1  first_person_plural1  second_person1  \\\n",
       "17339                       0                     0               0   \n",
       "17343                       0                     0               0   \n",
       "17347                       0                     0               0   \n",
       "17337                       0                     0               0   \n",
       "17338                       0                     0               0   \n",
       "\n",
       "       third_person_singular1  third_person_plural1  first_person_singular2  \\\n",
       "17339                       0                     0                       0   \n",
       "17343                       0                     0                       0   \n",
       "17347                       0                     0                       0   \n",
       "17337                       0                     0                       0   \n",
       "17338                       0                     0                       0   \n",
       "\n",
       "       first_person_plural2  second_person2  third_person_singular2  \\\n",
       "17339                     0               0                       0   \n",
       "17343                     0               0                       1   \n",
       "17347                     0               0                       1   \n",
       "17337                     0               0                       1   \n",
       "17338                     0               0                       1   \n",
       "\n",
       "       third_person_plural2  \n",
       "17339                     0  \n",
       "17343                     0  \n",
       "17347                     0  \n",
       "17337                     0  \n",
       "17338                     0  "
      ]
     },
     "execution_count": 13,
     "metadata": {},
     "output_type": "execute_result"
    }
   ],
   "source": [
    "comparaison_final.sort_values(by='ctr1', ascending=False).head()"
   ]
  },
  {
   "cell_type": "markdown",
   "id": "72ba7300",
   "metadata": {},
   "source": [
    "2.3 One easy way to classify sentiment is simply to match negative or positive words. \n",
    "Use the linked lists of words ([positive][1], [negative][2]) to obtain \"positive sentiment\" and \"negative sentiment\" scores for each headline. Create columns `positive1`/`positive2` and `negative1`/`negative2` containing indicator variables for positive and negative sentiment, i.e., A headline has a \"positive sentiment\" (or negative) score equal 1 if it contains at least one positive (or negative) sentiment word on the list. Otherwise, its \"positive sentiment\" (or negative) score equals 0.\n",
    "    \n",
    "[1]: https://ptrckprry.com/course/ssd/data/positive-words.txt\n",
    "[2]: https://ptrckprry.com/course/ssd/data/negative-words.txt\n"
   ]
  },
  {
   "cell_type": "code",
   "execution_count": 14,
   "id": "4678cd74",
   "metadata": {},
   "outputs": [],
   "source": [
    "#read positive words file\n",
    "with open(data_folder+'positive-words.txt', encoding = \"ISO-8859-1\") as p:\n",
    "    pos = p.readlines()[35:]\n",
    "\n",
    "pos = [s.strip() for s in pos]\n",
    "\n",
    "#read negative words file\n",
    "with open(data_folder+'negative-words.txt', encoding = \"ISO-8859-1\") as n:\n",
    "    neg = n.readlines()[35:]\n",
    "\n",
    "neg = [s.strip() for s in neg]"
   ]
  },
  {
   "cell_type": "code",
   "execution_count": 15,
   "id": "0d86b4c4",
   "metadata": {},
   "outputs": [],
   "source": [
    "comparaison_final['positive1'] = comparaison_final.apply(lambda row : 0 if len(set(row['headline1'].lower().split(' ')) & set(pos))==0 else 1,axis=1)\n",
    "comparaison_final['positive2'] = comparaison_final.apply(lambda row : 0 if len(set(row['headline2'].lower().split(' ')) & set(pos))==0 else 1,axis=1)\n",
    "comparaison_final['negative1'] = comparaison_final.apply(lambda row : 0 if len(set(row['headline1'].lower().split(' ')) & set(neg))==0 else 1,axis=1)\n",
    "comparaison_final['negative2'] = comparaison_final.apply(lambda row : 0 if len(set(row['headline2'].lower().split(' ')) & set(neg))==0 else 1,axis=1)"
   ]
  },
  {
   "cell_type": "markdown",
   "id": "572f0b46",
   "metadata": {},
   "source": [
    "## Task 3: Estimating the effect of language on headline success\n",
    "\n",
    "Your third task revolves around the question *how does language impact headlines' success?*\n",
    "\n",
    "3.1 First, we examine whether the winner headlines have more or fewer words than the loser headline. Conduct an independent sample t-test and paired t-test (see [scipy.stats](https://docs.scipy.org/doc/scipy/reference/generated/scipy.stats.ttest_ind.html#scipy.stats.ttest_ind); for the independent sample t-test, assume equal variance). Also, calculate and print the mean difference between the number of words in the winner and the loser headlines.\n",
    "\n",
    "3.2 **Discuss:** Are longer headlines more successful? Justify.\n",
    "\n",
    "3.3 The [t-statistic](https://en.wikipedia.org/wiki/T-statistic) is the ratio of the departure of the estimated value of a parameter from its hypothesized value to its standard error. In a t-test, the higher the t-statistic, the more confidently we can reject the null hypothesis. Use `numpy.random` to create four samples, each of size 30:\n",
    "- $X \\sim Uniform(0,1)$\n",
    "- $Y \\sim Uniform(0,1)$\n",
    "- $Z = X/2 + Y/2 + 0.1$\n",
    "- $K = Y + 0.1$\n",
    "    \n",
    "3.4 **Discuss:** What are the expected values and the variance of $X$, $Y$, $Z$, and $K$? (You don't need to justify them!)\n",
    "\n",
    "3.5 Run the following simulation 10000 times, storing the $p$-values for the tests at each run:\n",
    "- Sample new values  for $X$, $Y$, $Z$ and $K$ ($n=30$ each). \n",
    "- Run independent sample t-test (assuming equal variance) and paired t-test comparing $X$ and $Z$.\n",
    "-  Run independent sample t-test (assuming equal variance) and paired t-test comparing $X$ and $K$.\n",
    "\n",
    "3.6 Recall that the power of a binary hypothesis test is the probability that the test correctly rejects the null hypothesis when the alternative hypothesis is true. Using the p-values and assuming that we reject the null hypothesis if $p < 0.05$, calculate the statistical power of:\n",
    "- The independent sample t-test comparing $X$ and $Z$.\n",
    "- The paired t-test comparing $X$ and $Z$.\n",
    "- The independent sample t-test comparing $X$ and $K$.\n",
    "- The paired t-test comparing $X$ and $K$.\n",
    "    \n",
    "3.7 **Discuss:** When are paired t-tests helpful? Justify.\n",
    "\n",
    "3.8 With a bootstrapping approach (implemented by yourself, you should not use existing bootstrapping functions), estimate the average difference and 95% confidence intervals for:\n",
    "- the mean ratio between the number of words in the winner headline and the loser headline (i.e., the number of words in the winner headline divided by the number of words in the loser headlines).\n",
    "- the difference in usage of positive words between winner and loser headlines.\n",
    "- the difference in usage of negative words between winner and loser headlines.\n",
    "- The difference in usage of each type of pronoun between winner and loser headlines.\n",
    "\n",
    "3.9 **Discuss:** According to the results obtained in **T3.8**, what headlines grab people's attention the most? Justify your answer.\n",
    "    \n",
    "---\n",
    "**Comments:**\n",
    "\n",
    "- Paired t-test formula: $t = \\frac{\\overline{x}_{\\mathrm{diff}}}{s_{\\mathrm{diff}} / \\sqrt n }$ where:\n",
    "    - $\\overline{x}_{\\mathrm{diff}}$ is the sample difference between the means of the matched sample; and\n",
    "    - $s_{\\mathrm{diff}}$ is the sample variance of the matched sample; and\n",
    "    - $n$ is the number of matched samples.\n",
    "    \n",
    "- Independent samples t-test formula: $t = \\frac{\\overline{x}_{1} - \\overline{x}_{2}}{\\sqrt{\\frac{s_{1}^{2}}{n_{1}} + \\frac{s_{2}^{2}}{n_{2}}}}$ where:\n",
    "    - $\\overline{x}_{\\mathrm{1}}$ is the sample mean of the first group; and\n",
    "    - $s_{\\mathrm{1}}$ is the sample variance of the first group; and\n",
    "    - $n_1$ is the number of samples in the first group;\n",
    "    \n",
    "     \n",
    "- t-tests are valid for samples of non-normal distribution for large enough samples (a rule of thumb used is: n$\\geq$30)!"
   ]
  },
  {
   "cell_type": "markdown",
   "id": "90f5d7d6",
   "metadata": {},
   "source": [
    "**3.1** First, we examine whether the winner headlines have more or fewer words than the loser headline. Conduct an independent sample t-test and paired t-test (see scipy.stats; for the independent sample t-test, assume equal variance). Also, calculate and print the mean difference between the number of words in the winner and the loser headlines."
   ]
  },
  {
   "cell_type": "code",
   "execution_count": 16,
   "id": "96960e07",
   "metadata": {},
   "outputs": [
    {
     "name": "stdout",
     "output_type": "stream",
     "text": [
      "Independent t-test results =>  Statistics : 8.50 , pvalue: 2.03E-17\n",
      "Paired t-test results =>  Statistics : 10.28 , pvalue: 1.09E-24\n",
      "The mean difference is equal to 0.31 words, and the variance is equal to 12.86\n"
     ]
    },
    {
     "data": {
      "image/png": "[encoded data removed]",
      "text/plain": [
       "<Figure size 1080x360 with 2 Axes>"
      ]
     },
     "metadata": {
      "needs_background": "light"
     },
     "output_type": "display_data"
    }
   ],
   "source": [
    "### Independent samples t-test\n",
    "ind_t_test = ttest_ind(comparaison_final['numwords1'],comparaison_final['numwords2'],equal_var=True)\n",
    "\n",
    "### Paired t-test\n",
    "paired_t_test = ttest_rel(comparaison_final['numwords1'],comparaison_final['numwords2'])\n",
    "\n",
    "### Diff in legth between winner and looser headdline \n",
    "diff = comparaison_final['numwords1'] - comparaison_final['numwords2']\n",
    "mean_diff = (diff).mean()\n",
    "var_diff = (diff).var()\n",
    "\n",
    "\n",
    "fig, (ax1, ax2) = plt.subplots(1, 2, figsize=(15, 5))\n",
    "fig.suptitle('Distribution of the number of pair of headline as a function of the differnce in length between winner and looser headline ')\n",
    "ax1.hist(diff.values, bins = 100 )\n",
    "\n",
    "### TODO Should we keep yscale = \"log\" ?\n",
    "\n",
    "ax1.set(xlabel='Difference in length between winner and looser headline', ylabel=\"Number of pair of headline\") \n",
    "ax2.boxplot(diff.values)\n",
    "ax2 = ax2.set(xticks=[])\n",
    "\n",
    "\n",
    "print('Independent t-test results =>  Statistics : %0.2f , pvalue: %1.2E' % (ind_t_test[0],  ind_t_test[1]))    \n",
    "print('Paired t-test results =>  Statistics : %0.2f , pvalue: %1.2E' % (paired_t_test[0],  paired_t_test[1]))\n",
    "print('The mean difference is equal to %0.2f words, and the variance is equal to %0.2f' % (mean_diff,var_diff) )"
   ]
  },
  {
   "cell_type": "markdown",
   "id": "fc04e3b7",
   "metadata": {},
   "source": [
    "**3.2 Discuss:** Are longer headlines more successful? Justify."
   ]
  },
  {
   "cell_type": "markdown",
   "id": "3b5c18ac",
   "metadata": {},
   "source": [
    "Paired t-test : $ (p_{value} < 0.05)  \\Rightarrow$ we can reject the null hypothesis of identical average headline length. \n",
    "\n",
    "Independent t-test : $ (p_{value} < 0.05)  \\Rightarrow$ we can reject the null hypothesis of identical average headline length. "
   ]
  },
  {
   "cell_type": "markdown",
   "id": "afb770b9",
   "metadata": {},
   "source": [
    "**3.3** The [t-statistic](https://en.wikipedia.org/wiki/T-statistic) is the ratio of the departure of the estimated value of a parameter from its hypothesized value to its standard error. In a t-test, the higher the t-statistic, the more confidently we can reject the null hypothesis. Use `numpy.random` to create four samples, each of size 30:\n",
    "- $X \\sim Uniform(0,1)$\n",
    "- $Y \\sim Uniform(0,1)$\n",
    "- $Z = X/2 + Y/2 + 0.1$\n",
    "- $K = Y + 0.1$\n",
    "    "
   ]
  },
  {
   "cell_type": "code",
   "execution_count": 17,
   "id": "592b6608",
   "metadata": {},
   "outputs": [],
   "source": [
    "x = np.random.uniform(low=0,high=1,size=30)\n",
    "y = np.random.uniform(low=0,high=1,size=30)\n",
    "z = x/2 + y/2 + 0.1\n",
    "k = y + 0.1"
   ]
  },
  {
   "cell_type": "markdown",
   "id": "8c35a9b1",
   "metadata": {},
   "source": [
    "**3.4 Discuss:** What are the expected values and the variance of $X$, $Y$, $Z$, and $K$? (You don't need to justify them!)"
   ]
  },
  {
   "cell_type": "markdown",
   "id": "1a4d1d88",
   "metadata": {},
   "source": [
    "$Var[X] = E[(X)^2] - E[X]^2 = \\frac{1}{3} - \\frac{1}{4} = \\frac{1}{12} $ \n",
    "\n",
    "$Var[Y] = \\frac{1}{12} $\n",
    "\n",
    "$Var[Z] = Var[\\frac{X}{2}+ \\frac{Y}{2} + 0.1] = Var[\\frac{X}{2}] + Var[\\frac{Y}{2}]= \\frac{1}{4} (Var[X]+ Var[Y])= \\frac{1}{24}   $\n",
    "\n",
    "$Var[K] = Var[Y + 0.1]=  Var[Y ]=  \\frac{1}{12} $ \n"
   ]
  },
  {
   "cell_type": "markdown",
   "id": "cc838372",
   "metadata": {},
   "source": [
    "**3.5** Run the following simulation 10000 times, storing the $p$-values for the tests at each run:\n",
    "- Sample new values  for $X$, $Y$, $Z$ and $K$ ($n=30$ each). \n",
    "- Run independent sample t-test (assuming equal variance) and paired t-test comparing $X$ and $Z$.\n",
    "-  Run independent sample t-test (assuming equal variance) and paired t-test comparing $X$ and $K$."
   ]
  },
  {
   "cell_type": "code",
   "execution_count": 18,
   "id": "f1d6a60d",
   "metadata": {},
   "outputs": [],
   "source": [
    "n_iters = 10000\n",
    "p_values_ind_x_z = []\n",
    "p_values_paired_x_z = []\n",
    "p_values_ind_x_k = []\n",
    "p_values_paired_x_k = []\n",
    "p_values_paired_x_mehdi = []\n",
    "p_values_ind_x_mehdi = []\n",
    "for i in range(n_iters):\n",
    "    x = np.random.uniform(low=0,high=1,size=30)\n",
    "    y = np.random.uniform(low=0,high=1,size=30)\n",
    "    z = x/2 + y/2 + 0.1\n",
    "    k = y + 0.1\n",
    "    p_values_ind_x_z.append(ttest_ind(x,z,equal_var=True).pvalue)\n",
    "    p_values_paired_x_z.append(ttest_rel(x,z).pvalue)\n",
    "    p_values_ind_x_k.append(ttest_ind(x,k,equal_var=True).pvalue)\n",
    "    p_values_paired_x_k.append(ttest_rel(x,k).pvalue)"
   ]
  },
  {
   "cell_type": "markdown",
   "id": "32e7e7e6",
   "metadata": {},
   "source": [
    "**3.6** Recall that the power of a binary hypothesis test is the probability that the test correctly rejects the null hypothesis when the alternative hypothesis is true. Using the p-values and assuming that we reject the null hypothesis if $p < 0.05$, calculate the statistical power of:\n",
    "- The independent sample t-test comparing $X$ and $Z$.\n",
    "- The paired t-test comparing $X$ and $Z$.\n",
    "- The independent sample t-test comparing $X$ and $K$.\n",
    "- The paired t-test comparing $X$ and $K$."
   ]
  },
  {
   "cell_type": "code",
   "execution_count": 19,
   "id": "ac260993",
   "metadata": {},
   "outputs": [
    {
     "name": "stdout",
     "output_type": "stream",
     "text": [
      "The independent sample t-test comparing X and Z : 0.22\n",
      "The paired t-test comparing X and Z : 0.73\n",
      "The independent sample t-test comparing X and K : 0.25\n",
      "The paired t-test comparing X and K : 0.25\n"
     ]
    }
   ],
   "source": [
    "stat_power_ind_x_z = len([x  for x  in p_values_ind_x_z if x < 0.05 ])/n_iters\n",
    "stat_power_paired_x_z = len([x  for x  in p_values_paired_x_z if x < 0.05 ])/n_iters\n",
    "\n",
    "stat_power_ind_x_k = len([x  for x  in p_values_ind_x_k if x < 0.05 ])/n_iters\n",
    "stat_power_paired_x_k = len([x  for x  in p_values_paired_x_k if x < 0.05 ])/n_iters\n",
    "\n",
    "print('The independent sample t-test comparing X and Z : %0.2f' % stat_power_ind_x_z)\n",
    "print('The paired t-test comparing X and Z : %0.2f' % stat_power_paired_x_z)\n",
    "print('The independent sample t-test comparing X and K : %0.2f' % stat_power_ind_x_k)\n",
    "print('The paired t-test comparing X and K : %0.2f' % stat_power_paired_x_k)\n"
   ]
  },
  {
   "cell_type": "markdown",
   "id": "89f77ca1",
   "metadata": {},
   "source": [
    "**3.7 Discuss:** When are paired t-tests helpful? Justify."
   ]
  },
  {
   "cell_type": "markdown",
   "id": "97811574",
   "metadata": {},
   "source": [
    "Paired t-test are useful when comparing variables from matched pairs, i.e., there exist a (temporal, logical, etc. ) relationship between the pairs of random variables.\n",
    "\n",
    "We can see that paired t-test are statistically stronger when applied on Z and X, which are related random variables, with $ P( $ reject $H_0 | H_1 $is true $) = 0.74 $ compared to when applied on X and K which are not related at all, with $ P( $ reject $H_0 | H_1 $is true $) = 0.26 $. \n",
    "\n",
    "In this particular case paired t-test are statsitically as strong as independent sample t-test."
   ]
  },
  {
   "cell_type": "markdown",
   "id": "1a201e0a",
   "metadata": {},
   "source": [
    "**3.8** With a bootstrapping approach (implemented by yourself, you should not use existing bootstrapping functions), estimate the average difference and 95% confidence intervals for:\n",
    "- the mean ratio between the number of words in the winner headline and the loser headline (i.e., the number of words in the winner headline divided by the number of words in the loser headlines).\n",
    "- the difference in usage of positive words between winner and loser headlines.\n",
    "- the difference in usage of negative words between winner and loser headlines.\n",
    "- The difference in usage of each type of pronoun between winner and loser headlines.\n"
   ]
  },
  {
   "cell_type": "code",
   "execution_count": 20,
   "id": "681651e7",
   "metadata": {
    "scrolled": true
   },
   "outputs": [],
   "source": [
    "def find_confidence_interval_in_list(means_list):\n",
    "    return (np.quantile(means_list,0.025),np.quantile(means_list,0.975))\n",
    "\n",
    "def batch_iter(series, batch_size, num_batches):\n",
    "    data_size = len(series)\n",
    "    shuffle_indices = np.random.permutation(np.arange(data_size))\n",
    "    shuffled_series = series[series.index.values[shuffle_indices]]\n",
    "    for batch_num in range(num_batches):\n",
    "        strt = np.random.randint(data_size-batch_size)\n",
    "        start_index = min(shuffle_indices[strt], shuffle_indices[strt]-batch_size)\n",
    "        end_index = start_index + batch_size\n",
    "        if start_index != end_index:\n",
    "            yield shuffled_series[start_index:end_index].values\n",
    "            \n",
    "def calculate_means(batches):\n",
    "    batches = filter(lambda x : len(x)!=0, batches)\n",
    "    means_array = []\n",
    "    for  batch in batches :\n",
    "        means_array.append(np.mean(batch))\n",
    "    fig, axs = plt.subplots(nrows=1, ncols=1)\n",
    "    axs.hist(means_array, bins = 100)\n",
    "    return means_array\n",
    "\n",
    "def confidence_interval(serie, batch_size=100, num_batches = 10000):\n",
    "    batches = list(batch_iter(serie,batch_size,num_batches ))\n",
    "    means = calculate_means(batches)\n",
    "    return find_confidence_interval_in_list(means)"
   ]
  },
  {
   "cell_type": "code",
   "execution_count": 21,
   "id": "a081fe62",
   "metadata": {},
   "outputs": [
    {
     "name": "stdout",
     "output_type": "stream",
     "text": [
      "ci_mean_ratio [1.0029, 1.1320]\n",
      "\n",
      "ci_pos_words [-0.1300, 0.1170]\n",
      "avg_diff_pos_words -0.0090, var_diff_pos_words 0.3806 \n",
      "\n",
      "ci_neg_words [-0.1000, 0.1200]\n",
      "avg_diff_neg_words 0.0196, , var_diff_pos_words 0.3320\n",
      "\n",
      "ci_neg_words [-0.0700, 0.1000]\n",
      "avg_diff_pronouns[key] 0.0159, var_diff_pronouns[key] 0.1521 \n",
      "\n",
      "ci_neg_words [-0.0800, 0.0700]\n",
      "avg_diff_pronouns[key] -0.0110, var_diff_pronouns[key] 0.1478 \n",
      "\n",
      "ci_neg_words [-0.0900, 0.0900]\n",
      "avg_diff_pronouns[key] 0.0036, var_diff_pronouns[key] 0.2623 \n",
      "\n",
      "ci_neg_words [-0.0700, 0.1400]\n",
      "avg_diff_pronouns[key] 0.0343, var_diff_pronouns[key] 0.2831 \n",
      "\n",
      "ci_neg_words [-0.0700, 0.0800]\n",
      "avg_diff_pronouns[key] 0.0027, var_diff_pronouns[key] 0.1654 \n",
      "\n"
     ]
    },
    {
     "data": {
      "image/png": "[encoded data removed]",
      "text/plain": [
       "<Figure size 432x288 with 1 Axes>"
      ]
     },
     "metadata": {
      "needs_background": "light"
     },
     "output_type": "display_data"
    },
    {
     "data": {
      "image/png": "[encoded data removed]",
      "text/plain": [
       "<Figure size 432x288 with 1 Axes>"
      ]
     },
     "metadata": {
      "needs_background": "light"
     },
     "output_type": "display_data"
    },
    {
     "data": {
      "image/png": "[encoded data removed]",
      "text/plain": [
       "<Figure size 432x288 with 1 Axes>"
      ]
     },
     "metadata": {
      "needs_background": "light"
     },
     "output_type": "display_data"
    },
    {
     "data": {
      "image/png": "[encoded data removed]",
      "text/plain": [
       "<Figure size 432x288 with 1 Axes>"
      ]
     },
     "metadata": {
      "needs_background": "light"
     },
     "output_type": "display_data"
    },
    {
     "data": {
      "image/png": "[encoded data removed]",
      "text/plain": [
       "<Figure size 432x288 with 1 Axes>"
      ]
     },
     "metadata": {
      "needs_background": "light"
     },
     "output_type": "display_data"
    },
    {
     "data": {
      "image/png": "[encoded data removed]",
      "text/plain": [
       "<Figure size 432x288 with 1 Axes>"
      ]
     },
     "metadata": {
      "needs_background": "light"
     },
     "output_type": "display_data"
    },
    {
     "data": {
      "image/png": "[encoded data removed]",
      "text/plain": [
       "<Figure size 432x288 with 1 Axes>"
      ]
     },
     "metadata": {
      "needs_background": "light"
     },
     "output_type": "display_data"
    },
    {
     "data": {
      "image/png": "[encoded data removed]",
      "text/plain": [
       "<Figure size 432x288 with 1 Axes>"
      ]
     },
     "metadata": {
      "needs_background": "light"
     },
     "output_type": "display_data"
    }
   ],
   "source": [
    "#1\n",
    "ci_mean_ratio = confidence_interval(comparaison_final['numwords1']/comparaison_final['numwords2'])\n",
    "print('ci_mean_ratio [%1.4f, %1.4f]' %ci_mean_ratio )\n",
    "print()\n",
    "#2\n",
    "ci_pos_words = confidence_interval(comparaison_final['positive1']-comparaison_final['positive2'])\n",
    "print('ci_pos_words [%1.4f, %1.4f]' %ci_pos_words)\n",
    "avg_diff_pos_words = (comparaison_final['positive1']-comparaison_final['positive2']).mean()\n",
    "var_diff_pos_words = (comparaison_final['positive1']-comparaison_final['positive2']).var()\n",
    "print('avg_diff_pos_words %1.4f, var_diff_pos_words %1.4f ' % (avg_diff_pos_words, var_diff_pos_words))\n",
    "print()\n",
    "#3\n",
    "ci_neg_words = confidence_interval(comparaison_final['negative1']-comparaison_final['negative2'])\n",
    "print('ci_neg_words [%1.4f, %1.4f]' %ci_neg_words )\n",
    "avg_diff_neg_words = (comparaison_final['negative1']-comparaison_final['negative2']).mean()\n",
    "var_diff_neg_words = (comparaison_final['negative1']-comparaison_final['negative2']).var()\n",
    "print('avg_diff_neg_words %1.4f, , var_diff_pos_words %1.4f' %(avg_diff_neg_words,var_diff_neg_words))\n",
    "print(),\n",
    "\n",
    "ci_prononouns = {}\n",
    "avg_diff_pronouns = {}\n",
    "var_diff_pronouns = {}\n",
    "for key in feature_wordsets : \n",
    "    ci_prononouns[key]= confidence_interval(comparaison_final[key+'1'] -  comparaison_final[key+'2'] )\n",
    "    print('ci_neg_words [%1.4f, %1.4f]' %ci_prononouns[key])\n",
    "    avg_diff_pronouns[key]=(comparaison_final[key+'1'] -  comparaison_final[key+'2'] ).mean()\n",
    "    var_diff_pronouns[key]=(comparaison_final[key+'1'] -  comparaison_final[key+'2'] ).var()\n",
    "    print('avg_diff_pronouns[key] %1.4f, var_diff_pronouns[key] %1.4f ' %(avg_diff_pronouns[key], var_diff_pronouns[key]))\n",
    "    print()\n"
   ]
  },
  {
   "cell_type": "markdown",
   "id": "70888d20",
   "metadata": {},
   "source": [
    "## Task 4: Temporal validity and heterogeneity of the effect.\n",
    "\n",
    "Last, we investigate how the effects studied in **T3** change with time and how they might be heterogeneous across different types of news.\n",
    "\n",
    "4.1 Create a plot where you depict the monthly average number of words in winner and loser headlines. Consider only headlines created after April 2013 (the month of April inclusive). Include also bootstrapped 95% confidence intervals; here, you can use a third-party implementation if you want. Finally, recall that we created a column `date_created` which captures the creation of the winner headline; you can consider this date to correspond to the date of the creation of the A/B test.\n",
    "\n",
    "4.2 Produce similar plots to each pronoun category, as well as for positive and negative sentiment. Here, unlike in **T4.1**, depict the month averages pooled across winner and loser headlines (i.e., for each month, you calculate the average across both winners and loser headlines).\n",
    "Create all these plots in a single figure with no more than 11 inches of width and 11 inches of height. Again, consider only headlines created after April 2013 (the month of April inclusive).\n",
    "\n",
    "4.3 **Discuss:** Has the type of headline Upworthy used in their A/B tests changed with time? Are these changes likely to be producing more or less engaging headlines? Justify.\n",
    "\n",
    "4.4 Divide your data into two periods, $t_1$, which goes from  April 2013 (inclusive) to March 2014 (inclusive), and $t_2$, which goes from April 2014 (inclusive) to the latest A/B test in the data. Create a dataframe for A/B tests in each period.\n",
    "\n",
    "4.5 Let's examine if the effects observed remained the same throughout the study period. Use an appropriate methodology  of your choice to determine if the effects observed in **T3.8** (length, each category of pronouns, positive words, and negative words) were different in $t_1$ and $t_2$. Here, note that we are considering \"at least one positive outcome\" to be the manifestation of an underlying effect, thus significance level must be adjusted down when performing multiple hypothesis tests!\n",
    "\n",
    "4.6 **Discuss:** Hypothesize two reasons that could have led to a change in the observed effects. According to the analysis done in **T4.5**, have the effects observed remained the same across the study period? \n",
    "\n",
    "4.7 The features we are studying may interact with each other. For instance, people may like first person singular pronouns in headlines containing positive words (you are amazing!), but dislike headlines with negative words and first person pronouns (you are awful!). To help answer this question, create:\n",
    "- a dataframe containing all A/B tests where both winner and loser headlines include a positive word; and\n",
    "- a dataframe containing all A/B tests where both winner and loser headlines include a negative word;\n",
    "\n",
    "4.8 Using an appropriate methodology of your choice, determine if the effect of the use of first person singular pronouns in the headline is heterogeneous across headlines with positive words and negative words, i.e., is the effect significantly stronger for one of the dataframes created in **T4.7**? \n",
    "\n",
    "4.9 **Discuss:** Considering the analyses you did throughout Tasks 3 and 4, write a short text (no more than 250 words) giving advice to Upworthy employees on how they should try to write engaging headlines. \n",
    "You can reference images present in the notebook by indicating a task (e.g., image plotted in **T3.3**) or a cell number. Note that you do not need to conduct any additional analysis to write this text. \n"
   ]
  },
  {
   "cell_type": "markdown",
   "id": "85236f9a",
   "metadata": {},
   "source": [
    "4.1 Create a plot where you depict the monthly average number of words in winner and loser headlines. Consider only headlines created after April 2013 (the month of April inclusive). Include also bootstrapped 95% confidence intervals; here, you can use a third-party implementation if you want. Finally, recall that we created a column `date_created` which captures the creation of the winner headline; you can consider this date to correspond to the date of the creation of the A/B test."
   ]
  },
  {
   "cell_type": "code",
   "execution_count": 22,
   "id": "2bfc199f",
   "metadata": {},
   "outputs": [
    {
     "data": {
      "image/png": "[encoded data removed]",
      "text/plain": [
       "<Figure size 936x360 with 1 Axes>"
      ]
     },
     "metadata": {},
     "output_type": "display_data"
    }
   ],
   "source": [
    "comparaison_final['date_created'] = comparaison_final['date_created'].astype('datetime64[ns]')\n",
    "after_april2013 = comparaison_final[comparaison_final['date_created'] >= '2013-04-01']\n",
    "comparaison_final_month = after_april2013.groupby([after_april2013['date_created'].dt.month, after_april2013['date_created'].dt.year])\n",
    "\n",
    "\n",
    "def bootstrap_CI(data, nbr_draws):\n",
    "    means = np.zeros(nbr_draws)\n",
    "    data = np.array(data)\n",
    "\n",
    "    for n in range(nbr_draws):\n",
    "        indices = np.random.randint(0, len(data), len(data))\n",
    "        data_tmp = data[indices] \n",
    "        means[n] = np.nanmean(data_tmp)\n",
    "\n",
    "    return [np.nanpercentile(means, 2.5),np.nanpercentile(means, 97.5)]\n",
    "\n",
    "\n",
    "stats_by_month1 = comparaison_final_month.apply(lambda x: pd.Series({\n",
    "        'average_numwords1': x['numwords1'].mean(),\n",
    "        'lower_err_numwords1': bootstrap_CI(x['numwords1'], 1000)[0],\n",
    "        'upper_err_numwords2': bootstrap_CI(x['numwords1'], 1000)[1]\n",
    "    }))   \n",
    "\n",
    "stats_by_month2 = comparaison_final_month.apply(lambda x: pd.Series({\n",
    "        'average_numwords2': x['numwords2'].mean(),\n",
    "        'lower_err_numwords2': bootstrap_CI(x['numwords2'], 1000)[0],\n",
    "        'upper_err_numwords2': bootstrap_CI(x['numwords2'], 1000)[1]\n",
    "    }))\n",
    "\n",
    "stats_by_month1 = stats_by_month1.sort_index(level=[1,0])\n",
    "stats_by_month2 = stats_by_month2.sort_index(level=[1,0])\n",
    "\n",
    "stats_by_month1.index = stats_by_month1.index.map(lambda x : str(x[0]) + '-' + str(x[1]))\n",
    "stats_by_month2.index = stats_by_month2.index.map(lambda x : str(x[0]) + '-' + str(x[1]))\n",
    "\n",
    "plt.style.use('seaborn-whitegrid')\n",
    "fig, ax = plt.subplots(figsize=(13, 5))\n",
    "ax.errorbar(stats_by_month1.index, stats_by_month1.average_numwords1,\n",
    "             yerr = [-stats_by_month1.lower_err_numwords1 + stats_by_month1.average_numwords1, \n",
    "                    -stats_by_month1.average_numwords1 + stats_by_month1.upper_err_numwords2],\n",
    "             capsize= 3)\n",
    "ax.errorbar(stats_by_month2.index, stats_by_month2.average_numwords2,\n",
    "                yerr = [-stats_by_month2.lower_err_numwords2 + stats_by_month2.average_numwords2,\n",
    "                          -stats_by_month2.average_numwords2 + stats_by_month2.upper_err_numwords2],\n",
    "                capsize= 3)\n",
    "\n",
    "ax.set_xticks(stats_by_month1.index)\n",
    "ax.set_xticklabels(stats_by_month1.index, rotation=45)\n",
    "ax.set_xlabel('Month-Year')\n",
    "ax.set_ylabel('Average number of words')\n",
    "ax.set_title('Average number of words per month')\n",
    "ax.legend(['Winners', 'Loosers'])\n",
    "plt.show()\n",
    "\n"
   ]
  },
  {
   "cell_type": "markdown",
   "id": "73062509",
   "metadata": {},
   "source": [
    "4.2 Produce similar plots to each pronoun category, as well as for positive and negative sentiment. Here, unlike in **T4.1**, depict the month averages pooled across winner and loser headlines (i.e., for each month, you calculate the average across both winners and loser headlines).\n",
    "Create all these plots in a single figure with no more than 11 inches of width and 11 inches of height. Again, consider only headlines created after April 2013 (the month of April inclusive)."
   ]
  },
  {
   "cell_type": "code",
   "execution_count": 23,
   "id": "4d49bc3a",
   "metadata": {},
   "outputs": [
    {
     "data": {
      "image/png": "[encoded data removed]",
      "text/plain": [
       "<Figure size 1080x576 with 1 Axes>"
      ]
     },
     "metadata": {},
     "output_type": "display_data"
    }
   ],
   "source": [
    "plt.style.use('seaborn-whitegrid')\n",
    "fig, ax = plt.subplots(figsize=(15, 8))  #check if less than 11x11 inches\n",
    "\n",
    "for key in feature_wordsets : \n",
    "    comparaison_final[key] = comparaison_final[key+'1'] + comparaison_final[key+'2']\n",
    "    after_april2013 = comparaison_final[comparaison_final['date_created'] >= '2013-04-01']\n",
    "    comparaison_final_month = after_april2013.groupby([after_april2013['date_created'].dt.month, after_april2013['date_created'].dt.year])\n",
    "\n",
    "    stats_by_month = comparaison_final_month.apply(lambda x: pd.Series({\n",
    "        'average_'+key: x[key].mean(),\n",
    "        'lower_err_'+key: bootstrap_CI(x[key], 1000)[0],\n",
    "        'upper_err_'+key: bootstrap_CI(x[key], 1000)[1]\n",
    "    }))\n",
    "\n",
    "    stats_by_month = stats_by_month.sort_index(level=[1,0])\n",
    "    stats_by_month.index = stats_by_month.index.map(lambda x : str(x[0]) + '-' + str(x[1]))\n",
    "\n",
    "    ax.errorbar(stats_by_month.index, stats_by_month['average_'+key],\n",
    "                yerr = [-stats_by_month['lower_err_'+key] + stats_by_month['average_'+key],\n",
    "                        -stats_by_month['average_'+key] + stats_by_month['upper_err_'+key]],\n",
    "                capsize= 3)\n",
    "\n",
    "    #comparaison_final.drop(key, axis=1, inplace=True)\n",
    "\n",
    "comparaison_final['positive'] = comparaison_final['positive1'] + comparaison_final['positive2']\n",
    "comparaison_final['negative'] = comparaison_final['negative1'] + comparaison_final['negative2']\n",
    "after_april2013 = comparaison_final[comparaison_final['date_created'] >= '2013-04-01']\n",
    "comparaison_final_month = after_april2013.groupby([after_april2013['date_created'].dt.month, after_april2013['date_created'].dt.year])\n",
    "\n",
    "stats_pos = comparaison_final_month.apply(lambda x: pd.Series({\n",
    "        'average_positive': x['positive'].mean(),\n",
    "        'lower_err_positive': bootstrap_CI(x['positive'], 1000)[0],\n",
    "        'upper_err_positive': bootstrap_CI(x['positive'], 1000)[1]\n",
    "    }))\n",
    "stats_neg = comparaison_final_month.apply(lambda x: pd.Series({\n",
    "        'average_negative': x['negative'].mean(),\n",
    "        'lower_err_negative': bootstrap_CI(x['negative'], 1000)[0],\n",
    "        'upper_err_negative': bootstrap_CI(x['negative'], 1000)[1]\n",
    "    }))\n",
    "\n",
    "stats_pos = stats_pos.sort_index(level=[1,0])\n",
    "stats_neg = stats_neg.sort_index(level=[1,0])\n",
    "\n",
    "stats_pos.index = stats_pos.index.map(lambda x : str(x[0]) + '-' + str(x[1]))\n",
    "stats_neg.index = stats_neg.index.map(lambda x : str(x[0]) + '-' + str(x[1]))\n",
    "\n",
    "ax.errorbar(stats_pos.index, stats_pos.average_positive,\n",
    "            yerr = [-stats_pos.lower_err_positive + stats_pos.average_positive,\n",
    "                    -stats_pos.average_positive + stats_pos.upper_err_positive],\n",
    "            capsize= 3)\n",
    "ax.errorbar(stats_neg.index, stats_neg.average_negative,\n",
    "            yerr = [-stats_neg.lower_err_negative + stats_neg.average_negative,\n",
    "                    -stats_neg.average_negative + stats_neg.upper_err_negative],\n",
    "            capsize= 3)\n",
    "\n",
    "#comparaison_final.drop(['positive', 'negative'], axis=1, inplace=True)\n",
    "\n",
    "ax.set_xticks(stats_by_month1.index)\n",
    "ax.set_xticklabels(stats_by_month1.index, rotation=45)\n",
    "ax.set_xlabel('Month-Year')\n",
    "ax.set_ylabel('Average number of words')\n",
    "ax.legend(list(feature_wordsets) + ['positive', 'negative'], loc='upper right', bbox_to_anchor=(1.2, 1), )\n",
    "ax.set_title('Average number of words per category per month')\n",
    "plt.show()\n",
    "\n"
   ]
  },
  {
   "cell_type": "markdown",
   "id": "b8f0d09f",
   "metadata": {},
   "source": [
    "4.3 **Discuss:** Has the type of headline Upworthy used in their A/B tests changed with time? Are these changes likely to be producing more or less engaging headlines? Justify."
   ]
  },
  {
   "cell_type": "markdown",
   "id": "a475ae55",
   "metadata": {},
   "source": [
    "We note that the average number of words has increased over time in both winner and looser headlines.\n",
    "This is likely to produce more engaging headlines, as the average number of words in winner headlines is higher than the average number of words in loser headlines.\n",
    "\n",
    "We also note that the average number of negative words has decreased lately in both winner and looser headlines.\n",
    "The use of second person pronouns has also decreased in both winner and looser headlines whereas the use of third person pronouns has increased.\n",
    "Headlines tend thus to be more positive and less personal over time. \n",
    "\n"
   ]
  },
  {
   "cell_type": "markdown",
   "id": "31171951",
   "metadata": {},
   "source": [
    "4.4 Divide your data into two periods, $t_1$, which goes from  April 2013 (inclusive) to March 2014 (inclusive), and $t_2$, which goes from April 2014 (inclusive) to the latest A/B test in the data. Create a dataframe for A/B tests in each period."
   ]
  },
  {
   "cell_type": "code",
   "execution_count": 24,
   "id": "54660e6c",
   "metadata": {},
   "outputs": [],
   "source": [
    "comparaison_final['length'] = (comparaison_final['numwords1'] + comparaison_final['numwords2'])/2\n",
    "t1 = comparaison_final[(comparaison_final['date_created'] >= '2013-04-01') & (comparaison_final['date_created'] <= '2014-03-31')]\n",
    "t2 = comparaison_final[comparaison_final['date_created'] >= '2014-04-01']\n"
   ]
  },
  {
   "cell_type": "code",
   "execution_count": 25,
   "id": "c12d1068",
   "metadata": {},
   "outputs": [
    {
     "name": "stdout",
     "output_type": "stream",
     "text": [
      "('2013-04-02 00:37:56', '2014-03-30 17:47:51.166000')\n"
     ]
    }
   ],
   "source": [
    "min = t1['date_created'].min()\n",
    "max = t1['date_created'].max()\n",
    "print((str(min), str(max)))"
   ]
  },
  {
   "cell_type": "code",
   "execution_count": 26,
   "id": "e8985a46",
   "metadata": {},
   "outputs": [
    {
     "name": "stdout",
     "output_type": "stream",
     "text": [
      "('2014-04-01 01:14:07.096000', '2015-04-29 20:28:36.176000')\n"
     ]
    }
   ],
   "source": [
    "min = t2['date_created'].min()\n",
    "max = t2['date_created'].max()\n",
    "print((str(min), str(max)))"
   ]
  },
  {
   "cell_type": "markdown",
   "id": "705247ed",
   "metadata": {},
   "source": [
    "4.5 Let's examine if the effects observed remained the same throughout the study period. Use an appropriate methodology  of your choice to determine if the effects observed in **T3.8** (length, each category of pronouns, positive words, and negative words) were different in $t_1$ and $t_2$. Here, note that we are considering \"at least one positive outcome\" to be the manifestation of an underlying effect, thus significance level must be adjusted down when performing multiple hypothesis tests!"
   ]
  },
  {
   "cell_type": "code",
   "execution_count": 27,
   "id": "438356fb",
   "metadata": {},
   "outputs": [
    {
     "name": "stdout",
     "output_type": "stream",
     "text": [
      "length: t-test= -19.383, p-value= 0.000\n",
      "first_person_singular: t-test=0.1594604898061726, p-value=0.8733083846688904\n",
      "first_person_plural: t-test=1.5821125313301205, p-value=0.11364647081569937\n",
      "second_person: t-test=-0.5391911147298285, p-value=0.5897635642115029\n",
      "third_person_singular: t-test=-7.836188856777748, p-value=4.9775582616664275e-15\n",
      "third_person_plural: t-test=-3.4611690527153396, p-value=0.0005394391553678972\n",
      "positive: t-test= 1.525, p-value= 0.127\n",
      "negative: t-test= -4.599, p-value= 0.000\n"
     ]
    }
   ],
   "source": [
    "ttest = ttest_ind(t1['length'], t2['length'])\n",
    "print(\"length: t-test= {0:.3f}, p-value= {1:.3f}\".format(ttest[0], ttest[1]))\n",
    "\n",
    "for key in feature_wordsets : \n",
    "    ttest = ttest_ind(t1[key], t2[key])\n",
    "    print(\"{}: t-test={}, p-value={}\".format(key, ttest[0], ttest[1]))\n",
    "    #comparaison_final.drop(key, axis=1, inplace=True)\n",
    "\n",
    "ttest = ttest_ind(t1['positive'], t2['positive'])\n",
    "print(\"positive: t-test= {0:.3f}, p-value= {1:.3f}\".format(ttest[0], ttest[1]))\n",
    "ttest = ttest_ind(t1['negative'], t2['negative'])\n",
    "print(\"negative: t-test= {0:.3f}, p-value= {1:.3f}\".format(ttest[0], ttest[1]))\n",
    "\n",
    "#comparaison_final.drop(['length', 'positive', 'negative'], axis=1, inplace=True)\n"
   ]
  },
  {
   "cell_type": "markdown",
   "id": "680f9e6c",
   "metadata": {},
   "source": [
    "4.6 **Discuss:** Hypothesize two reasons that could have led to a change in the observed effects. According to the analysis done in **T4.5**, have the effects observed remained the same across the study period? "
   ]
  },
  {
   "cell_type": "markdown",
   "id": "e9da35fc",
   "metadata": {},
   "source": []
  },
  {
   "cell_type": "markdown",
   "id": "a2c971ab",
   "metadata": {},
   "source": [
    "4.7 The features we are studying may interact with each other. For instance, people may like first person singular pronouns in headlines containing positive words (you are amazing!), but dislike headlines with negative words and first person pronouns (you are awful!). To help answer this question, create:\n",
    "- a dataframe containing all A/B tests where both winner and loser headlines include a positive word; and\n",
    "- a dataframe containing all A/B tests where both winner and loser headlines include a negative word;"
   ]
  },
  {
   "cell_type": "code",
   "execution_count": 28,
   "id": "138f64b3",
   "metadata": {},
   "outputs": [
    {
     "name": "stdout",
     "output_type": "stream",
     "text": [
      "There are 2727 A/B tests where both headlines include at least a positive word\n",
      "There are 2659 A/B tests where both headlines include at least a negative word\n"
     ]
    }
   ],
   "source": [
    "winner_looser_pos = comparaison_final[(comparaison_final['positive1'] > 0) & (comparaison_final['positive2'] > 0)]\n",
    "winner_looser_neg = comparaison_final[(comparaison_final['negative1'] > 0) & (comparaison_final['negative2'] > 0)]\n",
    "print(\"There are {} A/B tests where both headlines include at least a positive word\".format(len(winner_looser_pos)))\n",
    "print(\"There are {} A/B tests where both headlines include at least a negative word\".format(len(winner_looser_neg)))"
   ]
  },
  {
   "cell_type": "markdown",
   "id": "8c7cde2a",
   "metadata": {},
   "source": [
    "4.8 Using an appropriate methodology of your choice, determine if the effect of the use of first person singular pronouns in the headline is heterogeneous across headlines with positive words and negative words, i.e., is the effect significantly stronger for one of the dataframes created in **T4.7**? "
   ]
  },
  {
   "cell_type": "code",
   "execution_count": 30,
   "id": "23ad1566",
   "metadata": {},
   "outputs": [
    {
     "name": "stdout",
     "output_type": "stream",
     "text": [
      "first_person_singular: t-test= -0.295, p-value= 0.768\n"
     ]
    }
   ],
   "source": [
    "ttest = ttest_ind(winner_looser_pos['first_person_singular'], winner_looser_neg['first_person_singular'])\n",
    "print(\"first_person_singular: t-test= {0:.3f}, p-value= {1:.3f}\".format(ttest[0], ttest[1]))"
   ]
  },
  {
   "cell_type": "markdown",
   "id": "7b8ae25f",
   "metadata": {},
   "source": [
    "4.9 **Discuss:** Considering the analyses you did throughout Tasks 3 and 4, write a short text (no more than 250 words) giving advice to Upworthy employees on how they should try to write engaging headlines. \n",
    "You can reference images present in the notebook by indicating a task (e.g., image plotted in **T3.3**) or a cell number. Note that you do not need to conduct any additional analysis to write this text. "
   ]
  },
  {
   "cell_type": "code",
   "execution_count": null,
   "id": "fd3dc9f2",
   "metadata": {},
   "outputs": [],
   "source": []
  }
 ],
 "metadata": {
  "kernelspec": {
   "display_name": "Python 3.9.7 ('base')",
   "language": "python",
   "name": "python3"
  },
  "language_info": {
   "codemirror_mode": {
    "name": "ipython",
    "version": 3
   },
   "file_extension": ".py",
   "mimetype": "text/x-python",
   "name": "python",
   "nbconvert_exporter": "python",
   "pygments_lexer": "ipython3",
   "version": "3.9.7"
  },
  "vscode": {
   "interpreter": {
    "hash": "1dcd94874888b7875c65b06e8db780edc36f818ca50cec7c0a5f76917c081af1"
   }
  }
 },
 "nbformat": 4,
 "nbformat_minor": 5
}
